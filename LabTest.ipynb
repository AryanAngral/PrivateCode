{
 "cells": [
  {
   "cell_type": "markdown",
   "metadata": {
    "vscode": {
     "languageId": "plaintext"
    }
   },
   "source": [
    "Question 1: Celcius to Farahinite\n",
    "            Farahinite to Celcius"
   ]
  },
  {
   "cell_type": "code",
   "execution_count": 12,
   "metadata": {},
   "outputs": [
    {
     "name": "stdout",
     "output_type": "stream",
     "text": [
      "Temperature Conversion Program\n",
      "1: Celsius to fahrenheit\n",
      "2: Fahrenheit To celsius\n"
     ]
    }
   ],
   "source": [
    "def cel_far(celsius):\n",
    "    fahrenheit=(celsius*9/5)+32\n",
    "    return fahrenheit\n",
    "def far_cel(fahrenheit):\n",
    "    celsius=(fahrenheit-32)*5/9\n",
    "    return celsius\n",
    "def main():\n",
    "    print(\"Temperature Conversion Program\")\n",
    "    print(\"1: Celsius to fahrenheit\")\n",
    "    print(\"2: Fahrenheit To celsius\")\n",
    "    choice = input(\"Choose an option (1 or 2): \")\n",
    "    if(choice==1):\n",
    "        inp=float(input(\"Enter the temperature in Celsius\"))\n",
    "        print(cel_far(inp))\n",
    "    elif(choice==2):\n",
    "        inp=float(input(\"Enter the temperature in fahrenheit\"))\n",
    "        print(far_cel(inp))\n",
    "if __name__==\"__main__\":\n",
    "    main()"
   ]
  },
  {
   "cell_type": "code",
   "execution_count": null,
   "metadata": {},
   "outputs": [
    {
     "name": "stdout",
     "output_type": "stream",
     "text": [
      "100 farahnite is : 37.78 celcius\n"
     ]
    }
   ],
   "source": []
  },
  {
   "cell_type": "markdown",
   "metadata": {},
   "source": [
    "write a python program to convert celsius to fahrenheit"
   ]
  },
  {
   "cell_type": "markdown",
   "metadata": {},
   "source": [
    "create a csv file and add 5 rows with 3 columns column1(name), column2(salary), column3(month) and create a new column where salary*12 and update the original file."
   ]
  },
  {
   "cell_type": "code",
   "execution_count": null,
   "metadata": {},
   "outputs": [],
   "source": []
  }
 ],
 "metadata": {
  "kernelspec": {
   "display_name": "Python 3",
   "language": "python",
   "name": "python3"
  },
  "language_info": {
   "codemirror_mode": {
    "name": "ipython",
    "version": 3
   },
   "file_extension": ".py",
   "mimetype": "text/x-python",
   "name": "python",
   "nbconvert_exporter": "python",
   "pygments_lexer": "ipython3",
   "version": "3.12.4"
  }
 },
 "nbformat": 4,
 "nbformat_minor": 2
}
