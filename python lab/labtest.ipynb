{
 "cells": [
  {
   "cell_type": "code",
   "execution_count": null,
   "metadata": {},
   "outputs": [],
   "source": [
    "count=0\n",
    "for i in range(1000,5000):\n",
    "    if(pow(i,1/2)==int(pow(i,1/2)) or pow(i,1/3)==int(pow(i,1/3))):\n",
    "        count=count+1\n",
    "count"
   ]
  },
  {
   "cell_type": "code",
   "execution_count": null,
   "metadata": {},
   "outputs": [],
   "source": [
    "class Chair:\n",
    "    #class variable\n",
    "    legs=4\n",
    "    hand_rest=2\n",
    "    back_rest=1\n",
    "    length=\"3 feet\""
   ]
  },
  {
   "cell_type": "code",
   "execution_count": null,
   "metadata": {},
   "outputs": [],
   "source": [
    "c=Chair()\n",
    "print(\"legs\",c.legs)\n",
    "print(\"length\",c.length)\n",
    "print(\"hand rest\",c.hand_rest)\n",
    "print(\"back rest\",c.back_rest)"
   ]
  },
  {
   "cell_type": "code",
   "execution_count": null,
   "metadata": {},
   "outputs": [],
   "source": [
    "d=Chair()\n"
   ]
  },
  {
   "cell_type": "code",
   "execution_count": null,
   "metadata": {},
   "outputs": [],
   "source": [
    "class Car:\n",
    "    company=\"Audi\"\n",
    "    wheels=4\n",
    "    door=4\n",
    "    engine=\"1.3 lr\"\n",
    "    color=\"Blue\""
   ]
  },
  {
   "cell_type": "code",
   "execution_count": null,
   "metadata": {},
   "outputs": [],
   "source": [
    "d=Car()\n",
    "d.color=\"Black\"\n",
    "d.color"
   ]
  },
  {
   "cell_type": "code",
   "execution_count": null,
   "metadata": {},
   "outputs": [],
   "source": [
    "#instances\n",
    "class Car:\n",
    "    company=\"Audi\"\n",
    "    wheels=4\n",
    "    door=4\n",
    "    engine=\"1.3 lr\"\n",
    "    color=\"Blue\"\n",
    "\n",
    "    def show_details(self):\n",
    "        print(\"company\",self.company)\n",
    "        print(\"wheels\",self.wheels)\n",
    "        print(\"door\",self.door)\n",
    "        print(\"engine\",self.engine)\n",
    "        print(\"colour\",self.color)\n"
   ]
  },
  {
   "cell_type": "code",
   "execution_count": null,
   "metadata": {},
   "outputs": [],
   "source": [
    "c=Car()"
   ]
  },
  {
   "cell_type": "code",
   "execution_count": null,
   "metadata": {},
   "outputs": [],
   "source": [
    "c.show_details()"
   ]
  },
  {
   "cell_type": "code",
   "execution_count": null,
   "metadata": {},
   "outputs": [],
   "source": [
    "class student:\n",
    "    maths=100\n",
    "    science=100\n",
    "    english=99\n",
    "    def max(self):\n",
    "        l=[self.maths,self.science,self.english]\n",
    "        l.sort()\n",
    "        print(f\"max= {l[-1]}\")\n",
    "    def min(self):\n",
    "        l=[self.maths,self.science,self.english]\n",
    "        l.sort()\n",
    "        print(f\"min= {l[0]}\")\n",
    "c=student()\n",
    "c.min()"
   ]
  },
  {
   "cell_type": "markdown",
   "metadata": {},
   "source": [
    "write  a program to perform searching activity using linear and binary search"
   ]
  },
  {
   "cell_type": "code",
   "execution_count": null,
   "metadata": {},
   "outputs": [],
   "source": [
    "f=[1,2,3,4,5,6]\n",
    "target=5\n",
    "count=0\n",
    "for i in f:\n",
    "    if target==i:\n",
    "        count+=1\n",
    "        # print(\"yes\")\n",
    "if(count>0):\n",
    "    print(\"yes\")\n",
    "else:\n",
    "    print(\"No\")"
   ]
  },
  {
   "cell_type": "code",
   "execution_count": null,
   "metadata": {},
   "outputs": [],
   "source": [
    "def binary(x,target):\n",
    "    left=0\n",
    "    right=len(x)-1\n",
    "    while left<=right:\n",
    "        mid=(left+right)//2\n",
    "        if x[mid]==target:\n",
    "            return mid\n",
    "        elif x[mid]<target:\n",
    "            left=mid+1\n",
    "        else:\n",
    "            right=mid-1\n",
    "    return-1\n",
    "f=[1,2,3,4,5,6]\n",
    "binary(f,2)"
   ]
  },
  {
   "cell_type": "markdown",
   "metadata": {},
   "source": [
    "Write a program to reverse each Kth row in matrix"
   ]
  },
  {
   "cell_type": "code",
   "execution_count": null,
   "metadata": {},
   "outputs": [],
   "source": [
    "m=[\n",
    "    [1,2,3],\n",
    "    [4,5,6],\n",
    "    [7,8,9],\n",
    "    [10,11,12]\n",
    "]\n",
    "def reverse_row(m,k):\n",
    "    m[k-1]=m[k-1][::-1]\n",
    "    return m\n",
    "reverse_row(m,1)"
   ]
  },
  {
   "cell_type": "markdown",
   "metadata": {},
   "source": [
    "create a class college:\n",
    "add instance name it \"details\" like: no. of class, location, no. of teachers\n",
    "add instance name it return no of classes\n",
    "add instance name it return no of teacher\n",
    "add instance name it return location of college"
   ]
  },
  {
   "cell_type": "code",
   "execution_count": null,
   "metadata": {},
   "outputs": [],
   "source": [
    "class College:\n",
    "    def deatils(self,Class,teachers,location):\n",
    "        self.Class=Class\n",
    "        self.teachers=teachers\n",
    "        self.location=location\n",
    "    def classes(self):\n",
    "        print(\"Number of classes :\",self.Class)\n",
    "    def teacher(self):\n",
    "        print(\"Number of teacher :\",self.teacher)\n",
    "    def location(self):\n",
    "        print(\"Number of location :\",self.location)\n"
   ]
  },
  {
   "cell_type": "code",
   "execution_count": null,
   "metadata": {},
   "outputs": [],
   "source": [
    "college1=College()\n",
    "college1.deatils(100,120,\"Jammu\")"
   ]
  },
  {
   "cell_type": "code",
   "execution_count": null,
   "metadata": {},
   "outputs": [],
   "source": [
    "college1.classes()"
   ]
  },
  {
   "cell_type": "code",
   "execution_count": null,
   "metadata": {},
   "outputs": [],
   "source": [
    "class Student:\n",
    "    def details(self,math,english,science):\n",
    "        self.math=math\n",
    "        self.english=english\n",
    "        self.science=science\n",
    "    def min_score(self):\n",
    "        return min([self.science,self.english,self.math])\n",
    "    def max_score(self):\n",
    "        return max([self.science,self.english,self.math])\n",
    "    def avg_score(self):\n",
    "        return sum([self.science,self.english,self.math])/3"
   ]
  },
  {
   "cell_type": "code",
   "execution_count": null,
   "metadata": {},
   "outputs": [],
   "source": [
    "s1=Student()"
   ]
  },
  {
   "cell_type": "code",
   "execution_count": null,
   "metadata": {},
   "outputs": [],
   "source": [
    "s1.details(99,99,98)"
   ]
  },
  {
   "cell_type": "code",
   "execution_count": null,
   "metadata": {},
   "outputs": [],
   "source": [
    "s1.min_score()"
   ]
  },
  {
   "cell_type": "code",
   "execution_count": null,
   "metadata": {},
   "outputs": [],
   "source": [
    "s1.avg_score()"
   ]
  },
  {
   "cell_type": "code",
   "execution_count": null,
   "metadata": {},
   "outputs": [],
   "source": [
    "s1.max_score()"
   ]
  },
  {
   "cell_type": "code",
   "execution_count": null,
   "metadata": {},
   "outputs": [],
   "source": [
    "class College:\n",
    "    def details(self,area,building,room,teacher,student,staff):\n",
    "        self.area=area\n",
    "        self.building=building\n",
    "        self.room=room\n",
    "        self.teacher=teacher       \n",
    "        self.student=student       \n",
    "        self.staff=staff       \n",
    "    def clg_info(self):\n",
    "        print(\"area\",self.area)\n",
    "        print(\"Building\",self.building)\n",
    "        print(\"Room\",self.room)\n",
    "    def human_info(self):\n",
    "        return self.teacher+self.student+self.staff"
   ]
  },
  {
   "cell_type": "code",
   "execution_count": null,
   "metadata": {},
   "outputs": [],
   "source": [
    "c=College()"
   ]
  },
  {
   "cell_type": "code",
   "execution_count": null,
   "metadata": {},
   "outputs": [],
   "source": [
    "c.details(\"20 acr\",5,120,100,5000,50)"
   ]
  },
  {
   "cell_type": "code",
   "execution_count": null,
   "metadata": {},
   "outputs": [],
   "source": [
    "c.clg_info()"
   ]
  },
  {
   "cell_type": "markdown",
   "metadata": {},
   "source": [
    "BANKING SYSTEM"
   ]
  },
  {
   "cell_type": "code",
   "execution_count": null,
   "metadata": {},
   "outputs": [],
   "source": [
    "class Bank:\n",
    "    balance=20000\n",
    "    def credit(self,amount):\n",
    "        self.amount=amount\n",
    "        if(amount>0):\n",
    "            self.balance+=self.amount\n",
    "            print(f\"{self.amount} has been credited in your account\")\n",
    "            print(f\"{self.balance} is your current balance\")\n",
    "        else:\n",
    "            print(\"Enter valid amount!\")\n",
    "    def debit(self,amount):\n",
    "        self.amount=amount\n",
    "        if(amount>0 and self.balance>amount):\n",
    "            self.balance-=self.amount\n",
    "            print(f\"{self.amount} has been debited from your account\")\n",
    "            print(f\"{self.balance} is your current balance\")\n",
    "        else:\n",
    "            print(\"Please enter valid amount and within your current balance\")\n",
    "        "
   ]
  },
  {
   "cell_type": "code",
   "execution_count": null,
   "metadata": {},
   "outputs": [],
   "source": [
    "a1=Bank()"
   ]
  },
  {
   "cell_type": "code",
   "execution_count": null,
   "metadata": {},
   "outputs": [],
   "source": [
    "a1.credit(100000)"
   ]
  },
  {
   "cell_type": "code",
   "execution_count": null,
   "metadata": {},
   "outputs": [],
   "source": [
    "a1.debit(1000)"
   ]
  },
  {
   "cell_type": "code",
   "execution_count": null,
   "metadata": {},
   "outputs": [],
   "source": [
    "a1.balance"
   ]
  },
  {
   "cell_type": "markdown",
   "metadata": {},
   "source": [
    "Create a class Student where add 5 methods (Year 1, Year 2, Year 3, Year4, Total)"
   ]
  },
  {
   "cell_type": "code",
   "execution_count": null,
   "metadata": {},
   "outputs": [],
   "source": [
    "class Student:\n",
    "    y1=0\n",
    "    y2=0\n",
    "    y3=0\n",
    "    y4=0\n",
    "    def year1(self,yr1):\n",
    "        self.yr1=yr1\n",
    "        self.y1=1\n",
    "    def year2(self,yr2):\n",
    "        self.yr2=yr2\n",
    "        self.y2=1\n",
    "    def year3(self,yr3):\n",
    "        self.yr3=yr3\n",
    "        self.y3=1\n",
    "    def year4(self,yr4):\n",
    "        self.yr4=yr4\n",
    "        self.y4=1\n",
    "    def total(self):\n",
    "        if(self.y1==1 and self.y2==1 and self.y3==1 and self.y4==1):\n",
    "            print(f\"CGPA : {(self.yr1+self.yr2+self.yr3+self.yr4)/4}\")\n",
    "        if(self.y1==1 and self.y2==1 and self.y3==1 and self.y4==0):\n",
    "            print(f\"CGPA : {(self.yr1+self.yr2+self.yr3)/3}\")\n",
    "        if(self.y1==1 and self.y2==1 and self.y3==0 and self.y4==0):\n",
    "            print(f\"CGPA : {(self.yr1+self.yr2)/2}\")\n",
    "        if(self.y1==1 and self.y2==0 and self.y3==0 and self.y4==0):\n",
    "            print(f\"CGPA : {(self.yr1)}\")"
   ]
  },
  {
   "cell_type": "code",
   "execution_count": null,
   "metadata": {},
   "outputs": [],
   "source": [
    "s1=Student()"
   ]
  },
  {
   "cell_type": "code",
   "execution_count": null,
   "metadata": {},
   "outputs": [],
   "source": [
    "s1.year1(9.2)"
   ]
  },
  {
   "cell_type": "code",
   "execution_count": null,
   "metadata": {},
   "outputs": [],
   "source": [
    "s1.year2(9.4)"
   ]
  },
  {
   "cell_type": "code",
   "execution_count": null,
   "metadata": {},
   "outputs": [],
   "source": [
    "s1.year3(9.6)"
   ]
  },
  {
   "cell_type": "code",
   "execution_count": null,
   "metadata": {},
   "outputs": [],
   "source": [
    "s1.year4(9.9)"
   ]
  },
  {
   "cell_type": "code",
   "execution_count": null,
   "metadata": {},
   "outputs": [],
   "source": [
    "s1.total()"
   ]
  },
  {
   "cell_type": "code",
   "execution_count": null,
   "metadata": {},
   "outputs": [],
   "source": [
    "s2=Student()"
   ]
  },
  {
   "cell_type": "code",
   "execution_count": null,
   "metadata": {},
   "outputs": [],
   "source": [
    "s2.year1(9.5)"
   ]
  },
  {
   "cell_type": "code",
   "execution_count": null,
   "metadata": {},
   "outputs": [],
   "source": [
    "s2.total()"
   ]
  },
  {
   "cell_type": "markdown",
   "metadata": {},
   "source": [
    "CONSTRUCTOR"
   ]
  },
  {
   "cell_type": "code",
   "execution_count": null,
   "metadata": {},
   "outputs": [],
   "source": [
    "class A:\n",
    "    def __init__(self):\n",
    "        print(\"This is class A\")\n",
    "\n",
    "    "
   ]
  },
  {
   "cell_type": "code",
   "execution_count": null,
   "metadata": {},
   "outputs": [],
   "source": [
    "class B(A):\n",
    "    def __init__(self):\n",
    "        super().__init__()\n",
    "        print(\"This is class B\")"
   ]
  },
  {
   "cell_type": "code",
   "execution_count": null,
   "metadata": {},
   "outputs": [],
   "source": [
    "b=B()"
   ]
  },
  {
   "cell_type": "code",
   "execution_count": null,
   "metadata": {},
   "outputs": [],
   "source": [
    "class B:\n",
    "    def __init__(self,a,b):\n",
    "        self.a=a\n",
    "        self.b=b\n",
    "    def info(self):\n",
    "        return self.a,self.b\n",
    "    "
   ]
  },
  {
   "cell_type": "code",
   "execution_count": null,
   "metadata": {},
   "outputs": [],
   "source": [
    "class C(B):\n",
    "    def __init__(self,a,b,c,d):\n",
    "        self.a=a\n",
    "        self.b=b\n",
    "        self.c=C\n",
    "        self.d=d\n",
    "    def innn(self):\n",
    "        return (self.c*self.d)\n"
   ]
  },
  {
   "cell_type": "code",
   "execution_count": null,
   "metadata": {},
   "outputs": [],
   "source": [
    "c=C(1,2,3,4)"
   ]
  },
  {
   "cell_type": "code",
   "execution_count": null,
   "metadata": {},
   "outputs": [],
   "source": [
    "c.info()"
   ]
  },
  {
   "cell_type": "code",
   "execution_count": null,
   "metadata": {},
   "outputs": [],
   "source": [
    "c.innn()"
   ]
  },
  {
   "cell_type": "code",
   "execution_count": null,
   "metadata": {},
   "outputs": [],
   "source": []
  },
  {
   "cell_type": "markdown",
   "metadata": {},
   "source": [
    "7.CREATE A DATABASE USING LIST AND TUPLES"
   ]
  },
  {
   "cell_type": "code",
   "execution_count": null,
   "metadata": {},
   "outputs": [],
   "source": [
    "data=[\n",
    "    (1,\"Aryan Angral\",20,\"CSE\"),\n",
    "    (2,\"Suryansh Jasrotia\",20,\"CSE\")\n",
    "]"
   ]
  },
  {
   "cell_type": "code",
   "execution_count": null,
   "metadata": {},
   "outputs": [],
   "source": [
    "data"
   ]
  },
  {
   "cell_type": "code",
   "execution_count": null,
   "metadata": {},
   "outputs": [],
   "source": [
    "def display_data(database):\n",
    "    print(\"ID  | Name                 | Age | Stream\")\n",
    "    print(\"-----------------------------------------\")\n",
    "    for i in database:\n",
    "        print(f\"{i[0]:<3} | {i[1]:<20} | {i[2]:<3} | {i[3]}\")"
   ]
  },
  {
   "cell_type": "code",
   "execution_count": null,
   "metadata": {},
   "outputs": [],
   "source": [
    "display_data(data)"
   ]
  },
  {
   "cell_type": "code",
   "execution_count": null,
   "metadata": {},
   "outputs": [],
   "source": [
    "def add_data(data,id,name,age,subject):\n",
    "    data.append((id,name,age,subject))\n"
   ]
  },
  {
   "cell_type": "code",
   "execution_count": null,
   "metadata": {},
   "outputs": [],
   "source": [
    "add_data(data,3,\"Dhruv\",22,\"CSE\")"
   ]
  },
  {
   "cell_type": "code",
   "execution_count": null,
   "metadata": {},
   "outputs": [],
   "source": [
    "display_data(data)"
   ]
  },
  {
   "cell_type": "code",
   "execution_count": null,
   "metadata": {},
   "outputs": [],
   "source": [
    "def remove_data(data,index=0):\n",
    "    data.pop(index-1)"
   ]
  },
  {
   "cell_type": "code",
   "execution_count": null,
   "metadata": {},
   "outputs": [],
   "source": [
    "remove_data(data)"
   ]
  },
  {
   "cell_type": "code",
   "execution_count": null,
   "metadata": {},
   "outputs": [],
   "source": []
  },
  {
   "cell_type": "markdown",
   "metadata": {},
   "source": [
    "FILE HANDLING"
   ]
  },
  {
   "cell_type": "code",
   "execution_count": null,
   "metadata": {},
   "outputs": [],
   "source": [
    "with open(\"A3\",\"w\") as file:\n",
    "    file.write(\"Hi\")\n",
    "    "
   ]
  },
  {
   "cell_type": "code",
   "execution_count": null,
   "metadata": {},
   "outputs": [],
   "source": [
    "with open(\"A3\",\"r\") as file:\n",
    "    a=file.read()"
   ]
  },
  {
   "cell_type": "code",
   "execution_count": null,
   "metadata": {},
   "outputs": [],
   "source": [
    "a"
   ]
  },
  {
   "cell_type": "code",
   "execution_count": null,
   "metadata": {},
   "outputs": [],
   "source": [
    "with open(\"new_A3\",\"w\") as file :\n",
    "    file.write(\"1. This is the file handling in python\\n\")"
   ]
  },
  {
   "cell_type": "code",
   "execution_count": null,
   "metadata": {},
   "outputs": [],
   "source": [
    "with open(\"new_A3\",\"r\") as file:\n",
    "    print(file.read())"
   ]
  },
  {
   "cell_type": "code",
   "execution_count": null,
   "metadata": {},
   "outputs": [],
   "source": [
    "with open(\"new_A3\",\"a\") as file :\n",
    "    file.write(\"2. We are using mode a so that we can add more lines in the file\\n\")\n",
    "    file.write(\"3. Do not forgwt to add a line seprator at the end of teh line\\n\")"
   ]
  },
  {
   "cell_type": "code",
   "execution_count": null,
   "metadata": {},
   "outputs": [],
   "source": [
    "with open(\"new_A3\",\"r\") as file :\n",
    "    print(file.readline())\n",
    "    print(file.readline())\n",
    "    print(file.readline())"
   ]
  },
  {
   "cell_type": "code",
   "execution_count": null,
   "metadata": {},
   "outputs": [],
   "source": [
    "with open(\"new_A3\",\"r\") as file :\n",
    "    print(file.readlines()[2])"
   ]
  },
  {
   "cell_type": "code",
   "execution_count": null,
   "metadata": {},
   "outputs": [],
   "source": [
    "with open(\"new_A3\",\"r\") as file :\n",
    "    f=file.readlines()\n",
    "    print(f[0])\n",
    "    print(f[2])\n"
   ]
  },
  {
   "cell_type": "code",
   "execution_count": null,
   "metadata": {},
   "outputs": [],
   "source": [
    "with open(\"new_A3\",\"a\") as file :\n",
    "    file.write(\"4. adding new lines in the file for more activity\\n5. i can add more line in same code\")"
   ]
  },
  {
   "cell_type": "code",
   "execution_count": null,
   "metadata": {},
   "outputs": [],
   "source": [
    "with open(\"new_A3\",\"r\") as file:\n",
    "    f=file.readlines()\n",
    "    for i in f:\n",
    "        print(i[0:4])"
   ]
  },
  {
   "cell_type": "code",
   "execution_count": null,
   "metadata": {},
   "outputs": [],
   "source": [
    "with open(\"new_A3\",\"r\") as file:\n",
    "    f=file.readlines()\n",
    "    for i in f:\n",
    "        x=i.split()\n",
    "        for j in range(0,4):\n",
    "            print(x[j],\" \",end=\"\")\n",
    "        print()"
   ]
  },
  {
   "cell_type": "code",
   "execution_count": null,
   "metadata": {},
   "outputs": [],
   "source": [
    "with open(\"new_A3\",\"r\") as file:\n",
    "    f=file.readlines()\n",
    "    for i in f:\n",
    "        x=i.split()\n",
    "        for j in x:\n",
    "            if (j[0]=='t' or j[0]=='a'):\n",
    "                print(j,\" \",end=\"\")\n",
    "        print()"
   ]
  },
  {
   "cell_type": "markdown",
   "metadata": {},
   "source": [
    "1. Update any line \n",
    "2. Delete any line\n",
    "3. Update any word\n",
    "4. delete any word\n",
    "4. replace any word"
   ]
  },
  {
   "cell_type": "code",
   "execution_count": null,
   "metadata": {},
   "outputs": [],
   "source": [
    "\n",
    "with open(\"test\",\"w\") as file:\n",
    "    w=file.write(\"1. Hi my name is Aryan Angral\")"
   ]
  },
  {
   "cell_type": "code",
   "execution_count": null,
   "metadata": {},
   "outputs": [],
   "source": [
    "with open(\"test\",\"r\") as file:\n",
    "    f=file.readlines()\n",
    "    f[0]=f[0]+\"in the python\"\n",
    "    print(f[0])"
   ]
  },
  {
   "cell_type": "code",
   "execution_count": null,
   "metadata": {},
   "outputs": [],
   "source": [
    "with open(\"test\",\"r\") as file:\n",
    "    f=file.readlines()\n",
    "    f[0]=f[0].replace(\"Angral\",\"Angral. And i am a enginner\")\n",
    "    print(f[0])"
   ]
  },
  {
   "cell_type": "code",
   "execution_count": null,
   "metadata": {},
   "outputs": [],
   "source": [
    "with open(\"test\",\"r\") as file:\n",
    "    f= file.readlines()\n",
    "    f[0]=f[0].replace(\"Angral\",\"Angral. Whats up!\")\n",
    "with open(\"test\",\"w\") as file:\n",
    "    for i in f:\n",
    "        file.write(i)"
   ]
  },
  {
   "cell_type": "markdown",
   "metadata": {},
   "source": [
    "Convert 1st line into uppercase"
   ]
  },
  {
   "cell_type": "code",
   "execution_count": null,
   "metadata": {},
   "outputs": [],
   "source": [
    "with open(\"test\",\"r\") as file:\n",
    "    f=file.read()\n",
    "    print(f)"
   ]
  },
  {
   "cell_type": "code",
   "execution_count": null,
   "metadata": {},
   "outputs": [],
   "source": [
    "with open(\"test\",\"r\") as file:\n",
    "    f=file.readlines()\n",
    "    x=f[0]\n",
    "    x=x[:3]+x[3].upper()+x[4:]\n",
    "    f[0]=x\n",
    "with open(\"test\",\"w\") as file:\n",
    "    for i in f:\n",
    "        file.write(i)\n"
   ]
  },
  {
   "cell_type": "markdown",
   "metadata": {},
   "source": [
    "remove all line number from the file"
   ]
  },
  {
   "cell_type": "code",
   "execution_count": null,
   "metadata": {},
   "outputs": [],
   "source": [
    "with open(\"test\",\"r\") as file:\n",
    "    f=file.readlines()\n",
    "    x=f[0]\n",
    "    x=x[3]+x[4:]\n",
    "    f[0]=x\n",
    "with open(\"test\",\"w\") as file:\n",
    "    for i in f:\n",
    "        file.write(i)"
   ]
  },
  {
   "cell_type": "markdown",
   "metadata": {},
   "source": [
    "add line no"
   ]
  },
  {
   "cell_type": "code",
   "execution_count": null,
   "metadata": {},
   "outputs": [],
   "source": [
    "with open(\"test\",\"r\") as file:\n",
    "    f=file.readlines()\n",
    "    \n",
    "with open(\"test\",\"w\") as file:\n",
    "    count=1\n",
    "    for x in f:\n",
    "        x=f\"{count}.\"+\" \"+x[2]+x[3:]\n",
    "        count+=1\n",
    "        file.write(x)\n",
    "f"
   ]
  },
  {
   "cell_type": "markdown",
   "metadata": {},
   "source": [
    "update any word in the file"
   ]
  },
  {
   "cell_type": "code",
   "execution_count": null,
   "metadata": {},
   "outputs": [],
   "source": [
    "with open(\"test\",\"r\") as file:\n",
    "    f=file.readlines()\n",
    "with open(\"test\",\"w\")as file:\n",
    "    for i in f:\n",
    "        i=i.replace(\"file\",\"\")\n",
    "        file.write(i)"
   ]
  },
  {
   "cell_type": "code",
   "execution_count": null,
   "metadata": {},
   "outputs": [],
   "source": [
    "l=[]\n",
    "l.insert()"
   ]
  },
  {
   "cell_type": "code",
   "execution_count": null,
   "metadata": {},
   "outputs": [],
   "source": [
    "class Ar:\n",
    "    def __init__(self):\n",
    "        print('hi')"
   ]
  },
  {
   "cell_type": "code",
   "execution_count": null,
   "metadata": {},
   "outputs": [],
   "source": [
    "a=Ar()"
   ]
  },
  {
   "cell_type": "code",
   "execution_count": null,
   "metadata": {},
   "outputs": [],
   "source": [
    "print(a)"
   ]
  },
  {
   "cell_type": "code",
   "execution_count": null,
   "metadata": {},
   "outputs": [],
   "source": []
  },
  {
   "cell_type": "code",
   "execution_count": null,
   "metadata": {},
   "outputs": [],
   "source": [
    "class Phone:\n",
    "    def calling(self):\n",
    "        print(\"calling someone\")\n",
    "    def working(self,press):\n",
    "        self.press=press\n",
    "        if(self.press==2):\n",
    "            print(\"calling father\")\n",
    "        elif(self.press==3):\n",
    "            print(\"calling mother\")\n",
    "        elif(self.press==4):\n",
    "            print(\"calling friend\")\n",
    "        else:\n",
    "            print(\"not defined\")"
   ]
  },
  {
   "cell_type": "code",
   "execution_count": null,
   "metadata": {},
   "outputs": [],
   "source": [
    "p=Phone()"
   ]
  },
  {
   "cell_type": "code",
   "execution_count": null,
   "metadata": {},
   "outputs": [],
   "source": [
    "p.working(4)"
   ]
  },
  {
   "cell_type": "code",
   "execution_count": null,
   "metadata": {},
   "outputs": [],
   "source": [
    "class A:\n",
    "    def __init__(self,id,age,name):\n",
    "        self.id=id\n",
    "        self.age=age\n",
    "        self.name=name\n",
    "    def show_info(self):\n",
    "        print(self.id)\n",
    "        print(self.age)\n",
    "        print(self.name)"
   ]
  },
  {
   "cell_type": "code",
   "execution_count": null,
   "metadata": {},
   "outputs": [],
   "source": [
    "a=A(1,44,\"tarun\")"
   ]
  },
  {
   "cell_type": "code",
   "execution_count": null,
   "metadata": {},
   "outputs": [],
   "source": [
    "a.show_info()"
   ]
  },
  {
   "cell_type": "markdown",
   "metadata": {},
   "source": [
    "INHERITANCE"
   ]
  },
  {
   "cell_type": "code",
   "execution_count": null,
   "metadata": {},
   "outputs": [],
   "source": [
    "class A:\n",
    "    surname=\"Angral\""
   ]
  },
  {
   "cell_type": "code",
   "execution_count": null,
   "metadata": {},
   "outputs": [],
   "source": [
    "class B(A):\n",
    "    name=\"Aryan \""
   ]
  },
  {
   "cell_type": "code",
   "execution_count": null,
   "metadata": {},
   "outputs": [],
   "source": [
    "b=B()"
   ]
  },
  {
   "cell_type": "code",
   "execution_count": null,
   "metadata": {},
   "outputs": [],
   "source": [
    "b.name+b.surname"
   ]
  },
  {
   "cell_type": "code",
   "execution_count": null,
   "metadata": {},
   "outputs": [],
   "source": [
    "class A:\n",
    "    def aa(self):\n",
    "        return \"class A\""
   ]
  },
  {
   "cell_type": "code",
   "execution_count": null,
   "metadata": {},
   "outputs": [],
   "source": [
    "class B(A):\n",
    "    def bb(self):\n",
    "        return \"class B\""
   ]
  },
  {
   "cell_type": "code",
   "execution_count": null,
   "metadata": {},
   "outputs": [],
   "source": [
    "f=B()"
   ]
  },
  {
   "cell_type": "code",
   "execution_count": null,
   "metadata": {},
   "outputs": [],
   "source": [
    "f.aa()"
   ]
  },
  {
   "cell_type": "code",
   "execution_count": null,
   "metadata": {},
   "outputs": [],
   "source": [
    "f.bb()"
   ]
  },
  {
   "cell_type": "code",
   "execution_count": null,
   "metadata": {},
   "outputs": [],
   "source": []
  },
  {
   "cell_type": "code",
   "execution_count": null,
   "metadata": {},
   "outputs": [],
   "source": [
    "class A:\n",
    "    def __init__(self,age,name):\n",
    "        self.age=age\n",
    "        self.name=name\n",
    "    def show(self):\n",
    "        print(self.age)\n",
    "        print(self.name)"
   ]
  },
  {
   "cell_type": "code",
   "execution_count": null,
   "metadata": {},
   "outputs": [],
   "source": [
    "class B(A):\n",
    "    def __init__(self,age,name,salary):\n",
    "        self.age=age\n",
    "        self.name=name\n",
    "        self.salary=salary\n",
    "    def info(self):\n",
    "        print(self.age)\n",
    "        print(self.name)\n",
    "        print(self.salary)"
   ]
  },
  {
   "cell_type": "code",
   "execution_count": null,
   "metadata": {},
   "outputs": [],
   "source": [
    "b=B(44,\"sam\",78900)"
   ]
  },
  {
   "cell_type": "code",
   "execution_count": null,
   "metadata": {},
   "outputs": [],
   "source": [
    "b.show()"
   ]
  },
  {
   "cell_type": "code",
   "execution_count": null,
   "metadata": {},
   "outputs": [],
   "source": [
    "b.info()"
   ]
  },
  {
   "cell_type": "code",
   "execution_count": null,
   "metadata": {},
   "outputs": [],
   "source": [
    "class A:\n",
    "    def __init__(self,age,name):\n",
    "        self.age=age\n",
    "        self.name=name\n",
    "    def show(self):\n",
    "        print(self.age)\n",
    "        print(self.name)"
   ]
  },
  {
   "cell_type": "code",
   "execution_count": null,
   "metadata": {},
   "outputs": [],
   "source": [
    "class B(A):\n",
    "    def __init__(self,age,name,salary):\n",
    "        super().__init__(age,name)\n",
    "        self.salary=salary\n",
    "    def info(self):\n",
    "        A.show(self)\n",
    "        print(self.salary)"
   ]
  },
  {
   "cell_type": "code",
   "execution_count": null,
   "metadata": {},
   "outputs": [],
   "source": [
    "b=B(44,\"sam\",78945)"
   ]
  },
  {
   "cell_type": "code",
   "execution_count": null,
   "metadata": {},
   "outputs": [],
   "source": [
    "b.show()"
   ]
  },
  {
   "cell_type": "code",
   "execution_count": null,
   "metadata": {},
   "outputs": [],
   "source": [
    "class A:\n",
    "    __name=\"SArthak\"\n",
    "    name=\"max\"\n",
    "    def kk(self):\n",
    "        return self.__name"
   ]
  },
  {
   "cell_type": "code",
   "execution_count": null,
   "metadata": {},
   "outputs": [],
   "source": [
    "a=A()"
   ]
  },
  {
   "cell_type": "code",
   "execution_count": null,
   "metadata": {},
   "outputs": [],
   "source": [
    "a.__name"
   ]
  },
  {
   "cell_type": "code",
   "execution_count": null,
   "metadata": {},
   "outputs": [],
   "source": [
    "a.name"
   ]
  },
  {
   "cell_type": "code",
   "execution_count": null,
   "metadata": {},
   "outputs": [],
   "source": [
    "a.kk()"
   ]
  },
  {
   "cell_type": "code",
   "execution_count": null,
   "metadata": {},
   "outputs": [],
   "source": [
    "class A:\n",
    "    def g(self):\n",
    "        return \"Class A\"\n",
    "    "
   ]
  },
  {
   "cell_type": "code",
   "execution_count": null,
   "metadata": {},
   "outputs": [],
   "source": [
    "class B(A):\n",
    "    def g(self):\n",
    "        super().g()\n",
    "        return \"class B\""
   ]
  },
  {
   "cell_type": "code",
   "execution_count": null,
   "metadata": {},
   "outputs": [],
   "source": [
    "obj=B()"
   ]
  },
  {
   "cell_type": "code",
   "execution_count": null,
   "metadata": {},
   "outputs": [],
   "source": [
    "obj.g()"
   ]
  },
  {
   "cell_type": "code",
   "execution_count": null,
   "metadata": {},
   "outputs": [],
   "source": []
  },
  {
   "cell_type": "markdown",
   "metadata": {},
   "source": [
    "Write a program that inputs a text file. The program should print all of the unique words in the file in alphabetical order"
   ]
  },
  {
   "cell_type": "code",
   "execution_count": null,
   "metadata": {},
   "outputs": [],
   "source": [
    "with open(\"text_file\",\"w\") as file:\n",
    "    file.write(\"we are solving a lab question just for 5 marks\\n\")\n",
    "    file.write(\"at will include in our maksheet so that will help us to get palced\\n\")"
   ]
  },
  {
   "cell_type": "code",
   "execution_count": null,
   "metadata": {},
   "outputs": [],
   "source": [
    "with open(\"text_file\",\"r\") as file:\n",
    "    f=file.readlines()\n",
    "    k=[]\n",
    "    for i in f:\n",
    "        for j in i.split():\n",
    "            k.append(j)\n",
    "    k.sort()\n",
    "    for r in k:\n",
    "        if k.count(r)==1:\n",
    "            print(r)"
   ]
  },
  {
   "cell_type": "markdown",
   "metadata": {},
   "source": [
    "Create a text file \"myfile\" in python and ask the user to write seprarate 3 lines with 3 input statements from the user. "
   ]
  },
  {
   "cell_type": "code",
   "execution_count": null,
   "metadata": {},
   "outputs": [],
   "source": [
    "with open(\"myfile\",\"w\") as file:\n",
    "    n1=input(\"Enter 1st statement\")\n",
    "    n2=input(\"Enter 2nd statement\")\n",
    "    n3=input(\"Enter 3rd statement\")\n",
    "    file.write(n1+\"\\n\")\n",
    "    file.write(n2+\"\\n\")\n",
    "    file.write(n3+\"\\n\")"
   ]
  },
  {
   "cell_type": "code",
   "execution_count": null,
   "metadata": {},
   "outputs": [],
   "source": [
    "with open(\"a3.txt\",\"w\") as file:\n",
    "    file.write(\"we are using file handling with 2nd method\\n\")\n",
    "    file.write(\"and today's date is 4 dec 2024\\n\")"
   ]
  },
  {
   "cell_type": "code",
   "execution_count": null,
   "metadata": {},
   "outputs": [],
   "source": [
    "with open(\"a3.txt\",\"r\") as file:\n",
    "    print(file.read())"
   ]
  },
  {
   "cell_type": "code",
   "execution_count": null,
   "metadata": {},
   "outputs": [],
   "source": [
    "with open(\"a3.txt\",\"r\") as file:\n",
    "    f=file.readlines()\n",
    "    print(\"1st line ------->\",f[0])\n",
    "    print(\"2nd line ------->\",f[1])\n",
    "    for i in f:\n",
    "        print(i)"
   ]
  },
  {
   "cell_type": "code",
   "execution_count": null,
   "metadata": {},
   "outputs": [],
   "source": [
    "with open(\"a3.txt\",\"r\") as file:\n",
    "    f=file.readlines()\n",
    "    f[1]=f[1].replace(\"4\",\"5\",1)\n",
    "with open(\"a3.txt\",\"w\") as file:\n",
    "    for i in f:\n",
    "        file.write(i)"
   ]
  },
  {
   "cell_type": "code",
   "execution_count": null,
   "metadata": {},
   "outputs": [],
   "source": [
    "with open(\"a3.txt\",\"r\") as file:\n",
    "    print(file.read())"
   ]
  },
  {
   "cell_type": "code",
   "execution_count": null,
   "metadata": {},
   "outputs": [],
   "source": [
    "o=\"orange\"\n",
    "l=[]\n",
    "for i in o:\n",
    "    l.append(i)\n",
    "l.sort()\n",
    "s =\"\"\n",
    "for i in l:\n",
    "    s+=i"
   ]
  },
  {
   "cell_type": "code",
   "execution_count": null,
   "metadata": {},
   "outputs": [],
   "source": [
    "h = \"\"\n",
    "for i in sorted(o):\n",
    "    h+=i\n",
    "print(h)"
   ]
  },
  {
   "cell_type": "code",
   "execution_count": null,
   "metadata": {},
   "outputs": [],
   "source": [
    "h"
   ]
  },
  {
   "cell_type": "markdown",
   "metadata": {},
   "source": [
    "CSV"
   ]
  },
  {
   "cell_type": "code",
   "execution_count": null,
   "metadata": {},
   "outputs": [],
   "source": [
    "import csv\n",
    "\n",
    "\n",
    "with open(\"file.csv\",\"w\") as file:\n",
    "    file.write(\"1,25000,6\\n\")\n",
    "    file.write(\"2,78000,3\\n\")\n",
    "    file.write(\"3,55000,7\\n\")\n",
    "    file.write(\"4,44000,6\\n\")\n",
    "\n",
    "    "
   ]
  },
  {
   "cell_type": "code",
   "execution_count": null,
   "metadata": {},
   "outputs": [],
   "source": [
    "with open(\"file.csv\",\"r\") as file:\n",
    "    print(file.read())"
   ]
  },
  {
   "cell_type": "code",
   "execution_count": null,
   "metadata": {},
   "outputs": [],
   "source": [
    "with open(\"file.csv\",\"r\") as file:\n",
    "    f=csv.reader(file,delimiter=',')\n",
    "    l=list(f)\n",
    "l"
   ]
  },
  {
   "cell_type": "code",
   "execution_count": null,
   "metadata": {},
   "outputs": [],
   "source": [
    "with open(\"file.csv\",\"r\") as file:\n",
    "    f=csv.reader(file,delimiter=\",\")\n",
    "    l=list(f)\n",
    "    for i in l:\n",
    "        print(i)"
   ]
  },
  {
   "cell_type": "code",
   "execution_count": null,
   "metadata": {},
   "outputs": [],
   "source": [
    "with open(\"file.csv\",\"a\") as file:\n",
    "    file.write(\"5,65000,3\\n\")\n",
    "    file.write(\"6,95000,3\\n\")"
   ]
  },
  {
   "cell_type": "code",
   "execution_count": null,
   "metadata": {},
   "outputs": [],
   "source": [
    "with open(\"file.csv\",\"r\") as file:\n",
    "    f=csv.reader(file,delimiter=\",\")\n",
    "    l=list(f)\n",
    "    print(\"ID   | SALARY  | MONTHS   \")\n",
    "    print(\"--------------------------\")\n",
    "    for i in l:\n",
    "        print(f\"{i[0]:<4} | {i[1]:<8} | {i[2]}\")"
   ]
  },
  {
   "cell_type": "code",
   "execution_count": null,
   "metadata": {},
   "outputs": [],
   "source": [
    "# print nth row of the file\n",
    "with open(\"file.csv\",\"r\") as file:\n",
    "    f=csv.reader(file,delimiter=',')\n",
    "    l=list(f)\n",
    "    for i in range(len(l)):\n",
    "        if i!=1:    \n",
    "            print(l[i])"
   ]
  },
  {
   "cell_type": "markdown",
   "metadata": {},
   "source": [
    "remove any row from file"
   ]
  },
  {
   "cell_type": "code",
   "execution_count": null,
   "metadata": {},
   "outputs": [],
   "source": [
    "with open(\"file.csv\",\"r\") as file:\n",
    "    f=csv.reader(file,delimiter=',')\n",
    "    l=list(f)\n",
    "    l.pop(4)\n",
    "    \n",
    "        "
   ]
  },
  {
   "cell_type": "code",
   "execution_count": null,
   "metadata": {},
   "outputs": [],
   "source": [
    "l"
   ]
  },
  {
   "cell_type": "code",
   "execution_count": null,
   "metadata": {},
   "outputs": [],
   "source": [
    "# with open(\"file.csv\",\"w\") as file:\n",
    "#     for i in l:\n",
    "#         file.write(i)"
   ]
  },
  {
   "cell_type": "markdown",
   "metadata": {},
   "source": [
    "Add new column where multiply 2nd and 3rd column"
   ]
  },
  {
   "cell_type": "code",
   "execution_count": null,
   "metadata": {},
   "outputs": [],
   "source": [
    "with open(\"file.csv\",\"r\") as file:\n",
    "    f=csv.reader(file,delimiter=\",\")\n",
    "    l=list(f)\n",
    "    el=[]\n",
    "    for i in l:\n",
    "        x=int(i[1])*int(i[2])\n",
    "        i.append(x)\n",
    "        print(i)"
   ]
  },
  {
   "cell_type": "code",
   "execution_count": null,
   "metadata": {},
   "outputs": [],
   "source": []
  },
  {
   "cell_type": "code",
   "execution_count": null,
   "metadata": {},
   "outputs": [],
   "source": [
    "with open(\"file.csv\",\"r\") as file:\n",
    "    f=csv.reader(file,delimiter=',')\n",
    "    l=list(f)\n",
    "with open(\"file1.csv\",\"w\") as file:\n",
    "    for i in l:\n",
    "        q=\",\".join(i)+\"\\n\"\n",
    "        file.write(q)"
   ]
  },
  {
   "cell_type": "code",
   "execution_count": null,
   "metadata": {},
   "outputs": [],
   "source": [
    "#anagram\n",
    "a=Car\n",
    "b=\"hello\""
   ]
  },
  {
   "cell_type": "code",
   "execution_count": null,
   "metadata": {},
   "outputs": [],
   "source": [
    "def anagram(a,b):\n",
    "    l1=[]\n",
    "    l2=[]\n",
    "    for i in a :\n",
    "        l1.append(i)\n",
    "    for j in b:\n",
    "        l2.append(j)\n",
    "    l1.sort()\n",
    "    l2.sort()\n",
    "    if(l1==l2):\n",
    "        print(\"Yes\")\n",
    "    else:\n",
    "        print(\"No\")\n"
   ]
  },
  {
   "cell_type": "code",
   "execution_count": null,
   "metadata": {},
   "outputs": [],
   "source": [
    "anagram('car','arc')"
   ]
  },
  {
   "cell_type": "code",
   "execution_count": null,
   "metadata": {},
   "outputs": [],
   "source": [
    "a='car'\n",
    "b='arc'\n",
    "if(sorted(a)==sorted(b)):\n",
    "    print(\"yes\")\n",
    "else:\n",
    "    print(\"no\")"
   ]
  },
  {
   "cell_type": "code",
   "execution_count": null,
   "metadata": {},
   "outputs": [],
   "source": [
    "l=[2,3,4]\n",
    "def right_angle(l=[]):\n",
    "    l.sort()\n",
    "    h=l[-1]\n",
    "    p=l[1]\n",
    "    b = l[0]\n",
    "    if (h**2) == ((p**2)+(b**2)):\n",
    "        s= (h+p+b)/2\n",
    "        area = (s*(s-h)*(s-p)*(s-b))**(1/2)\n",
    "        print(area)\n",
    "        print(\"right_angle\")\n",
    "    else:\n",
    "        s=(h+p+b)/2\n",
    "        area = (s*(s-h)*(s-p)*(s-b)) ** (1/2)\n",
    "        print(area)\n",
    "        print(\"not a right_angle\")"
   ]
  },
  {
   "cell_type": "code",
   "execution_count": null,
   "metadata": {},
   "outputs": [],
   "source": [
    "right_angle(l)"
   ]
  },
  {
   "cell_type": "code",
   "execution_count": null,
   "metadata": {},
   "outputs": [],
   "source": [
    "import os"
   ]
  },
  {
   "cell_type": "code",
   "execution_count": null,
   "metadata": {},
   "outputs": [],
   "source": [
    "os.listdir()"
   ]
  },
  {
   "cell_type": "code",
   "execution_count": null,
   "metadata": {},
   "outputs": [],
   "source": [
    "os.chdir()"
   ]
  },
  {
   "cell_type": "code",
   "execution_count": null,
   "metadata": {},
   "outputs": [],
   "source": [
    "os.listdir()"
   ]
  },
  {
   "cell_type": "markdown",
   "metadata": {},
   "source": [
    "Print the 3rd highest element from the list "
   ]
  },
  {
   "cell_type": "code",
   "execution_count": 42,
   "metadata": {},
   "outputs": [],
   "source": [
    "# l=[4,5,7,8,9,6,5,4,1,2,3,5]\n",
    "l=[0,0]"
   ]
  },
  {
   "cell_type": "code",
   "execution_count": null,
   "metadata": {},
   "outputs": [],
   "source": [
    "l.sort(reverse=True)\n",
    "ans=l[0]\n",
    "count=0\n",
    "for i in l:\n",
    "    if((i<ans and i!=ans) and count<2):\n",
    "        ans=i\n",
    "        count+=1\n",
    "if(len(set(l))<3):\n",
    "    print(\"out of range\")\n",
    "else:\n",
    "    print(ans)\n"
   ]
  },
  {
   "cell_type": "code",
   "execution_count": 51,
   "metadata": {},
   "outputs": [],
   "source": [
    "l=[1,5,9,10,12]\n",
    "if( (11) in l ):\n",
    "    x=l.index(11)\n",
    "else:\n",
    "    l.append(11)\n",
    "    l.sort()\n",
    "    x=l.index(11)"
   ]
  },
  {
   "cell_type": "code",
   "execution_count": null,
   "metadata": {},
   "outputs": [],
   "source": [
    "x"
   ]
  },
  {
   "cell_type": "code",
   "execution_count": 3,
   "metadata": {},
   "outputs": [],
   "source": [
    "import calendar"
   ]
  },
  {
   "cell_type": "code",
   "execution_count": 4,
   "metadata": {},
   "outputs": [
    {
     "data": {
      "text/plain": [
       "True"
      ]
     },
     "execution_count": 4,
     "metadata": {},
     "output_type": "execute_result"
    }
   ],
   "source": [
    "calendar.isleap(2004)"
   ]
  },
  {
   "cell_type": "code",
   "execution_count": null,
   "metadata": {},
   "outputs": [],
   "source": []
  }
 ],
 "metadata": {
  "kernelspec": {
   "display_name": "Python 3",
   "language": "python",
   "name": "python3"
  },
  "language_info": {
   "codemirror_mode": {
    "name": "ipython",
    "version": 3
   },
   "file_extension": ".py",
   "mimetype": "text/x-python",
   "name": "python",
   "nbconvert_exporter": "python",
   "pygments_lexer": "ipython3",
   "version": "3.12.4"
  }
 },
 "nbformat": 4,
 "nbformat_minor": 2
}
