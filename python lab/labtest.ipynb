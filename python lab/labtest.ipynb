{
 "cells": [
  {
   "cell_type": "code",
   "execution_count": 11,
   "metadata": {},
   "outputs": [
    {
     "data": {
      "text/plain": [
       "39"
      ]
     },
     "execution_count": 11,
     "metadata": {},
     "output_type": "execute_result"
    }
   ],
   "source": [
    "count=0\n",
    "for i in range(1000,5000):\n",
    "    if(pow(i,1/2)==int(pow(i,1/2)) or pow(i,1/3)==int(pow(i,1/3))):\n",
    "        count=count+1\n",
    "count"
   ]
  },
  {
   "cell_type": "code",
   "execution_count": 15,
   "metadata": {},
   "outputs": [],
   "source": [
    "class Chair:\n",
    "    #class variable\n",
    "    legs=4\n",
    "    hand_rest=2\n",
    "    back_rest=1\n",
    "    length=\"3 feet\""
   ]
  },
  {
   "cell_type": "code",
   "execution_count": 18,
   "metadata": {},
   "outputs": [
    {
     "name": "stdout",
     "output_type": "stream",
     "text": [
      "legs 4\n",
      "length 3 feet\n",
      "hand rest 2\n",
      "back rest 1\n"
     ]
    }
   ],
   "source": [
    "c=Chair()\n",
    "print(\"legs\",c.legs)\n",
    "print(\"length\",c.length)\n",
    "print(\"hand rest\",c.hand_rest)\n",
    "print(\"back rest\",c.back_rest)"
   ]
  },
  {
   "cell_type": "code",
   "execution_count": null,
   "metadata": {},
   "outputs": [],
   "source": [
    "d=Chair()\n"
   ]
  },
  {
   "cell_type": "code",
   "execution_count": 19,
   "metadata": {},
   "outputs": [],
   "source": [
    "class Car:\n",
    "    company=\"Audi\"\n",
    "    wheels=4\n",
    "    door=4\n",
    "    engine=\"1.3 lr\"\n",
    "    color=\"Blue\""
   ]
  },
  {
   "cell_type": "code",
   "execution_count": 22,
   "metadata": {},
   "outputs": [
    {
     "data": {
      "text/plain": [
       "'Black'"
      ]
     },
     "execution_count": 22,
     "metadata": {},
     "output_type": "execute_result"
    }
   ],
   "source": [
    "d=Car()\n",
    "d.color=\"Black\"\n",
    "d.color"
   ]
  },
  {
   "cell_type": "code",
   "execution_count": 33,
   "metadata": {},
   "outputs": [],
   "source": [
    "#instances\n",
    "class Car:\n",
    "    company=\"Audi\"\n",
    "    wheels=4\n",
    "    door=4\n",
    "    engine=\"1.3 lr\"\n",
    "    color=\"Blue\"\n",
    "\n",
    "    def show_details(self):\n",
    "        print(\"company\",self.company)\n",
    "        print(\"wheels\",self.wheels)\n",
    "        print(\"door\",self.door)\n",
    "        print(\"engine\",self.engine)\n",
    "        print(\"colour\",self.color)\n"
   ]
  },
  {
   "cell_type": "code",
   "execution_count": 35,
   "metadata": {},
   "outputs": [],
   "source": [
    "c=Car()"
   ]
  },
  {
   "cell_type": "code",
   "execution_count": 36,
   "metadata": {},
   "outputs": [
    {
     "name": "stdout",
     "output_type": "stream",
     "text": [
      "company Audi\n",
      "wheels 4\n",
      "door 4\n",
      "engine 1.3 lr\n",
      "colour Blue\n"
     ]
    }
   ],
   "source": [
    "c.show_details()"
   ]
  },
  {
   "cell_type": "code",
   "execution_count": 42,
   "metadata": {},
   "outputs": [
    {
     "name": "stdout",
     "output_type": "stream",
     "text": [
      "min= 99\n"
     ]
    }
   ],
   "source": [
    "class student:\n",
    "    maths=100\n",
    "    science=100\n",
    "    english=99\n",
    "    def max(self):\n",
    "        l=[self.maths,self.science,self.english]\n",
    "        l.sort()\n",
    "        print(f\"max= {l[-1]}\")\n",
    "    def min(self):\n",
    "        l=[self.maths,self.science,self.english]\n",
    "        l.sort()\n",
    "        print(f\"min= {l[0]}\")\n",
    "c=student()\n",
    "c.min()"
   ]
  },
  {
   "cell_type": "markdown",
   "metadata": {},
   "source": [
    "write  a program to perform searching activity using linear and binary search"
   ]
  },
  {
   "cell_type": "code",
   "execution_count": 3,
   "metadata": {},
   "outputs": [
    {
     "name": "stdout",
     "output_type": "stream",
     "text": [
      "yes\n"
     ]
    }
   ],
   "source": [
    "f=[1,2,3,4,5,6]\n",
    "target=5\n",
    "count=0\n",
    "for i in f:\n",
    "    if target==i:\n",
    "        count+=1\n",
    "        # print(\"yes\")\n",
    "if(count>0):\n",
    "    print(\"yes\")\n",
    "else:\n",
    "    print(\"No\")"
   ]
  },
  {
   "cell_type": "code",
   "execution_count": 2,
   "metadata": {},
   "outputs": [
    {
     "data": {
      "text/plain": [
       "1"
      ]
     },
     "execution_count": 2,
     "metadata": {},
     "output_type": "execute_result"
    }
   ],
   "source": [
    "def binary(x,target):\n",
    "    left=0\n",
    "    right=len(x)-1\n",
    "    while left<=right:\n",
    "        mid=(left+right)//2\n",
    "        if x[mid]==target:\n",
    "            return mid\n",
    "        elif x[mid]<target:\n",
    "            left=mid+1\n",
    "        else:\n",
    "            right=mid-1\n",
    "    return-1\n",
    "f=[1,2,3,4,5,6]\n",
    "binary(f,2)"
   ]
  },
  {
   "cell_type": "markdown",
   "metadata": {},
   "source": [
    "Write a program to reverse each Kth row in matrix"
   ]
  },
  {
   "cell_type": "code",
   "execution_count": 4,
   "metadata": {},
   "outputs": [
    {
     "data": {
      "text/plain": [
       "[[3, 2, 1], [4, 5, 6], [7, 8, 9], [10, 11, 12]]"
      ]
     },
     "execution_count": 4,
     "metadata": {},
     "output_type": "execute_result"
    }
   ],
   "source": [
    "m=[\n",
    "    [1,2,3],\n",
    "    [4,5,6],\n",
    "    [7,8,9],\n",
    "    [10,11,12]\n",
    "]\n",
    "def reverse_row(m,k):\n",
    "    m[k-1]=m[k-1][::-1]\n",
    "    return m\n",
    "reverse_row(m,1)"
   ]
  },
  {
   "cell_type": "markdown",
   "metadata": {},
   "source": [
    "create a class college:\n",
    "add instance name it \"details\" like: no. of class, location, no. of teachers\n",
    "add instance name it return no of classes\n",
    "add instance name it return no of teacher\n",
    "add instance name it return location of college"
   ]
  },
  {
   "cell_type": "code",
   "execution_count": 5,
   "metadata": {},
   "outputs": [],
   "source": [
    "class College:\n",
    "    def deatils(self,Class,teachers,location):\n",
    "        self.Class=Class\n",
    "        self.teachers=teachers\n",
    "        self.location=location\n",
    "    def classes(self):\n",
    "        print(\"Number of classes :\",self.Class)\n",
    "    def teacher(self):\n",
    "        print(\"Number of teacher :\",self.teacher)\n",
    "    def location(self):\n",
    "        print(\"Number of location :\",self.location)\n"
   ]
  },
  {
   "cell_type": "code",
   "execution_count": 7,
   "metadata": {},
   "outputs": [],
   "source": [
    "college1=College()\n",
    "college1.deatils(100,120,\"Jammu\")"
   ]
  },
  {
   "cell_type": "code",
   "execution_count": 8,
   "metadata": {},
   "outputs": [
    {
     "name": "stdout",
     "output_type": "stream",
     "text": [
      "Number of classes : 100\n"
     ]
    }
   ],
   "source": [
    "college1.classes()"
   ]
  },
  {
   "cell_type": "code",
   "execution_count": 7,
   "metadata": {},
   "outputs": [],
   "source": [
    "class Student:\n",
    "    def details(self,math,english,science):\n",
    "        self.math=math\n",
    "        self.english=english\n",
    "        self.science=science\n",
    "    def min_score(self):\n",
    "        return min([self.science,self.english,self.math])\n",
    "    def max_score(self):\n",
    "        return max([self.science,self.english,self.math])\n",
    "    def avg_score(self):\n",
    "        return sum([self.science,self.english,self.math])/3"
   ]
  },
  {
   "cell_type": "code",
   "execution_count": 8,
   "metadata": {},
   "outputs": [],
   "source": [
    "s1=Student()"
   ]
  },
  {
   "cell_type": "code",
   "execution_count": 9,
   "metadata": {},
   "outputs": [],
   "source": [
    "s1.details(99,99,98)"
   ]
  },
  {
   "cell_type": "code",
   "execution_count": 10,
   "metadata": {},
   "outputs": [
    {
     "data": {
      "text/plain": [
       "98"
      ]
     },
     "execution_count": 10,
     "metadata": {},
     "output_type": "execute_result"
    }
   ],
   "source": [
    "s1.min_score()"
   ]
  },
  {
   "cell_type": "code",
   "execution_count": 11,
   "metadata": {},
   "outputs": [
    {
     "data": {
      "text/plain": [
       "98.66666666666667"
      ]
     },
     "execution_count": 11,
     "metadata": {},
     "output_type": "execute_result"
    }
   ],
   "source": [
    "s1.avg_score()"
   ]
  },
  {
   "cell_type": "code",
   "execution_count": 12,
   "metadata": {},
   "outputs": [
    {
     "data": {
      "text/plain": [
       "99"
      ]
     },
     "execution_count": 12,
     "metadata": {},
     "output_type": "execute_result"
    }
   ],
   "source": [
    "s1.max_score()"
   ]
  },
  {
   "cell_type": "code",
   "execution_count": 13,
   "metadata": {},
   "outputs": [],
   "source": [
    "class College:\n",
    "    def details(self,area,building,room,teacher,student,staff):\n",
    "        self.area=area\n",
    "        self.building=building\n",
    "        self.room=room\n",
    "        self.teacher=teacher       \n",
    "        self.student=student       \n",
    "        self.staff=staff       \n",
    "    def clg_info(self):\n",
    "        print(\"area\",self.area)\n",
    "        print(\"Building\",self.building)\n",
    "        print(\"Room\",self.room)\n",
    "    def human_info(self):\n",
    "        return self.teacher+self.student+self.staff"
   ]
  },
  {
   "cell_type": "code",
   "execution_count": 14,
   "metadata": {},
   "outputs": [],
   "source": [
    "c=College()"
   ]
  },
  {
   "cell_type": "code",
   "execution_count": 15,
   "metadata": {},
   "outputs": [],
   "source": [
    "c.details(\"20 acr\",5,120,100,5000,50)"
   ]
  },
  {
   "cell_type": "code",
   "execution_count": 16,
   "metadata": {},
   "outputs": [
    {
     "name": "stdout",
     "output_type": "stream",
     "text": [
      "area 20 acr\n",
      "Building 5\n",
      "Room 120\n"
     ]
    }
   ],
   "source": [
    "c.clg_info()"
   ]
  },
  {
   "cell_type": "markdown",
   "metadata": {},
   "source": [
    "BANKING SYSTEM"
   ]
  },
  {
   "cell_type": "code",
   "execution_count": 28,
   "metadata": {},
   "outputs": [],
   "source": [
    "class Bank:\n",
    "    balance=20000\n",
    "    def credit(self,amount):\n",
    "        self.amount=amount\n",
    "        if(amount>0):\n",
    "            self.balance+=self.amount\n",
    "            print(f\"{self.amount} has been credited in your account\")\n",
    "            print(f\"{self.balance} is your current balance\")\n",
    "        else:\n",
    "            print(\"Enter valid amount!\")\n",
    "    def debit(self,amount):\n",
    "        self.amount=amount\n",
    "        if(amount>0 and self.balance>amount):\n",
    "            self.balance-=self.amount\n",
    "            print(f\"{self.amount} has been debited from your account\")\n",
    "            print(f\"{self.balance} is your current balance\")\n",
    "        else:\n",
    "            print(\"Please enter valid amount and within your current balance\")\n",
    "        "
   ]
  },
  {
   "cell_type": "code",
   "execution_count": 29,
   "metadata": {},
   "outputs": [],
   "source": [
    "a1=Bank()"
   ]
  },
  {
   "cell_type": "code",
   "execution_count": 30,
   "metadata": {},
   "outputs": [
    {
     "name": "stdout",
     "output_type": "stream",
     "text": [
      "100000 has been credited in your account\n",
      "120000 is your current balance\n"
     ]
    }
   ],
   "source": [
    "a1.credit(100000)"
   ]
  },
  {
   "cell_type": "code",
   "execution_count": 32,
   "metadata": {},
   "outputs": [
    {
     "name": "stdout",
     "output_type": "stream",
     "text": [
      "1000 has been debited from your account\n",
      "119000 is your current balance\n"
     ]
    }
   ],
   "source": [
    "a1.debit(1000)"
   ]
  },
  {
   "cell_type": "code",
   "execution_count": 33,
   "metadata": {},
   "outputs": [
    {
     "data": {
      "text/plain": [
       "119000"
      ]
     },
     "execution_count": 33,
     "metadata": {},
     "output_type": "execute_result"
    }
   ],
   "source": [
    "a1.balance"
   ]
  },
  {
   "cell_type": "markdown",
   "metadata": {},
   "source": [
    "Create a class Student where add 5 methods (Year 1, Year 2, Year 3, Year4, Total)"
   ]
  },
  {
   "cell_type": "code",
   "execution_count": 50,
   "metadata": {},
   "outputs": [],
   "source": [
    "class Student:\n",
    "    y1=0\n",
    "    y2=0\n",
    "    y3=0\n",
    "    y4=0\n",
    "    def year1(self,yr1):\n",
    "        self.yr1=yr1\n",
    "        self.y1=1\n",
    "    def year2(self,yr2):\n",
    "        self.yr2=yr2\n",
    "        self.y2=1\n",
    "    def year3(self,yr3):\n",
    "        self.yr3=yr3\n",
    "        self.y3=1\n",
    "    def year4(self,yr4):\n",
    "        self.yr4=yr4\n",
    "        self.y4=1\n",
    "    def total(self):\n",
    "        if(self.y1==1 and self.y2==1 and self.y3==1 and self.y4==1):\n",
    "            print(f\"CGPA : {(self.yr1+self.yr2+self.yr3+self.yr4)/4}\")\n",
    "        if(self.y1==1 and self.y2==1 and self.y3==1 and self.y4==0):\n",
    "            print(f\"CGPA : {(self.yr1+self.yr2+self.yr3)/3}\")\n",
    "        if(self.y1==1 and self.y2==1 and self.y3==0 and self.y4==0):\n",
    "            print(f\"CGPA : {(self.yr1+self.yr2)/2}\")\n",
    "        if(self.y1==1 and self.y2==0 and self.y3==0 and self.y4==0):\n",
    "            print(f\"CGPA : {(self.yr1)}\")"
   ]
  },
  {
   "cell_type": "code",
   "execution_count": 51,
   "metadata": {},
   "outputs": [],
   "source": [
    "s1=Student()"
   ]
  },
  {
   "cell_type": "code",
   "execution_count": 52,
   "metadata": {},
   "outputs": [],
   "source": [
    "s1.year1(9.2)"
   ]
  },
  {
   "cell_type": "code",
   "execution_count": 54,
   "metadata": {},
   "outputs": [],
   "source": [
    "s1.year2(9.4)"
   ]
  },
  {
   "cell_type": "code",
   "execution_count": 56,
   "metadata": {},
   "outputs": [],
   "source": [
    "s1.year3(9.6)"
   ]
  },
  {
   "cell_type": "code",
   "execution_count": 58,
   "metadata": {},
   "outputs": [],
   "source": [
    "s1.year4(9.9)"
   ]
  },
  {
   "cell_type": "code",
   "execution_count": 59,
   "metadata": {},
   "outputs": [
    {
     "name": "stdout",
     "output_type": "stream",
     "text": [
      "CGPA : 9.525\n"
     ]
    }
   ],
   "source": [
    "s1.total()"
   ]
  },
  {
   "cell_type": "code",
   "execution_count": 45,
   "metadata": {},
   "outputs": [],
   "source": [
    "s2=Student()"
   ]
  },
  {
   "cell_type": "code",
   "execution_count": 46,
   "metadata": {},
   "outputs": [],
   "source": [
    "s2.year1(9.5)"
   ]
  },
  {
   "cell_type": "code",
   "execution_count": 47,
   "metadata": {},
   "outputs": [
    {
     "name": "stdout",
     "output_type": "stream",
     "text": [
      "CGPA : 9.5\n"
     ]
    }
   ],
   "source": [
    "s2.total()"
   ]
  },
  {
   "cell_type": "markdown",
   "metadata": {},
   "source": [
    "CONSTRUCTOR"
   ]
  },
  {
   "cell_type": "code",
   "execution_count": 1,
   "metadata": {},
   "outputs": [],
   "source": [
    "class A:\n",
    "    def __init__(self):\n",
    "        print(\"This is class A\")\n",
    "\n",
    "    "
   ]
  },
  {
   "cell_type": "code",
   "execution_count": 2,
   "metadata": {},
   "outputs": [],
   "source": [
    "class B(A):\n",
    "    def __init__(self):\n",
    "        super().__init__()\n",
    "        print(\"This is class B\")"
   ]
  },
  {
   "cell_type": "code",
   "execution_count": 3,
   "metadata": {},
   "outputs": [
    {
     "name": "stdout",
     "output_type": "stream",
     "text": [
      "This is class A\n",
      "This is class B\n"
     ]
    }
   ],
   "source": [
    "b=B()"
   ]
  },
  {
   "cell_type": "code",
   "execution_count": 5,
   "metadata": {},
   "outputs": [],
   "source": [
    "class B:\n",
    "    def __init__(self,a,b):\n",
    "        self.a=a\n",
    "        self.b=b\n",
    "    def info(self):\n",
    "        return self.a,self.b\n",
    "    "
   ]
  },
  {
   "cell_type": "code",
   "execution_count": 14,
   "metadata": {},
   "outputs": [],
   "source": [
    "class C(B):\n",
    "    def __init__(self,a,b,c,d):\n",
    "        self.a=a\n",
    "        self.b=b\n",
    "        self.c=C\n",
    "        self.d=d\n",
    "    def innn(self):\n",
    "        return (self.c*self.d)\n"
   ]
  },
  {
   "cell_type": "code",
   "execution_count": 15,
   "metadata": {},
   "outputs": [],
   "source": [
    "c=C(1,2,3,4)"
   ]
  },
  {
   "cell_type": "code",
   "execution_count": 16,
   "metadata": {},
   "outputs": [
    {
     "data": {
      "text/plain": [
       "(1, 2)"
      ]
     },
     "execution_count": 16,
     "metadata": {},
     "output_type": "execute_result"
    }
   ],
   "source": [
    "c.info()"
   ]
  },
  {
   "cell_type": "code",
   "execution_count": 17,
   "metadata": {},
   "outputs": [
    {
     "ename": "TypeError",
     "evalue": "unsupported operand type(s) for *: 'type' and 'int'",
     "output_type": "error",
     "traceback": [
      "\u001b[1;31m---------------------------------------------------------------------------\u001b[0m",
      "\u001b[1;31mTypeError\u001b[0m                                 Traceback (most recent call last)",
      "Cell \u001b[1;32mIn[17], line 1\u001b[0m\n\u001b[1;32m----> 1\u001b[0m \u001b[43mc\u001b[49m\u001b[38;5;241;43m.\u001b[39;49m\u001b[43minnn\u001b[49m\u001b[43m(\u001b[49m\u001b[43m)\u001b[49m\n",
      "Cell \u001b[1;32mIn[14], line 8\u001b[0m, in \u001b[0;36mC.innn\u001b[1;34m(self)\u001b[0m\n\u001b[0;32m      7\u001b[0m \u001b[38;5;28;01mdef\u001b[39;00m \u001b[38;5;21minnn\u001b[39m(\u001b[38;5;28mself\u001b[39m):\n\u001b[1;32m----> 8\u001b[0m     \u001b[38;5;28;01mreturn\u001b[39;00m (\u001b[38;5;28;43mself\u001b[39;49m\u001b[38;5;241;43m.\u001b[39;49m\u001b[43mc\u001b[49m\u001b[38;5;241;43m*\u001b[39;49m\u001b[38;5;28;43mself\u001b[39;49m\u001b[38;5;241;43m.\u001b[39;49m\u001b[43md\u001b[49m)\n",
      "\u001b[1;31mTypeError\u001b[0m: unsupported operand type(s) for *: 'type' and 'int'"
     ]
    }
   ],
   "source": [
    "c.innn()"
   ]
  },
  {
   "cell_type": "code",
   "execution_count": null,
   "metadata": {},
   "outputs": [],
   "source": []
  },
  {
   "cell_type": "code",
   "execution_count": null,
   "metadata": {},
   "outputs": [],
   "source": []
  }
 ],
 "metadata": {
  "kernelspec": {
   "display_name": "Python 3",
   "language": "python",
   "name": "python3"
  },
  "language_info": {
   "codemirror_mode": {
    "name": "ipython",
    "version": 3
   },
   "file_extension": ".py",
   "mimetype": "text/x-python",
   "name": "python",
   "nbconvert_exporter": "python",
   "pygments_lexer": "ipython3",
   "version": "3.12.4"
  }
 },
 "nbformat": 4,
 "nbformat_minor": 2
}
