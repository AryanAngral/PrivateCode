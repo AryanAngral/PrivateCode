{
 "cells": [
  {
   "cell_type": "code",
   "execution_count": 11,
   "metadata": {},
   "outputs": [
    {
     "data": {
      "text/plain": [
       "39"
      ]
     },
     "execution_count": 11,
     "metadata": {},
     "output_type": "execute_result"
    }
   ],
   "source": [
    "count=0\n",
    "for i in range(1000,5000):\n",
    "    if(pow(i,1/2)==int(pow(i,1/2)) or pow(i,1/3)==int(pow(i,1/3))):\n",
    "        count=count+1\n",
    "count"
   ]
  },
  {
   "cell_type": "code",
   "execution_count": 15,
   "metadata": {},
   "outputs": [],
   "source": [
    "class Chair:\n",
    "    #class variable\n",
    "    legs=4\n",
    "    hand_rest=2\n",
    "    back_rest=1\n",
    "    length=\"3 feet\""
   ]
  },
  {
   "cell_type": "code",
   "execution_count": 18,
   "metadata": {},
   "outputs": [
    {
     "name": "stdout",
     "output_type": "stream",
     "text": [
      "legs 4\n",
      "length 3 feet\n",
      "hand rest 2\n",
      "back rest 1\n"
     ]
    }
   ],
   "source": [
    "c=Chair()\n",
    "print(\"legs\",c.legs)\n",
    "print(\"length\",c.length)\n",
    "print(\"hand rest\",c.hand_rest)\n",
    "print(\"back rest\",c.back_rest)"
   ]
  },
  {
   "cell_type": "code",
   "execution_count": null,
   "metadata": {},
   "outputs": [],
   "source": [
    "d=Chair()\n"
   ]
  },
  {
   "cell_type": "code",
   "execution_count": 19,
   "metadata": {},
   "outputs": [],
   "source": [
    "class Car:\n",
    "    company=\"Audi\"\n",
    "    wheels=4\n",
    "    door=4\n",
    "    engine=\"1.3 lr\"\n",
    "    color=\"Blue\""
   ]
  },
  {
   "cell_type": "code",
   "execution_count": 22,
   "metadata": {},
   "outputs": [
    {
     "data": {
      "text/plain": [
       "'Black'"
      ]
     },
     "execution_count": 22,
     "metadata": {},
     "output_type": "execute_result"
    }
   ],
   "source": [
    "d=Car()\n",
    "d.color=\"Black\"\n",
    "d.color"
   ]
  },
  {
   "cell_type": "code",
   "execution_count": 33,
   "metadata": {},
   "outputs": [],
   "source": [
    "#instances\n",
    "class Car:\n",
    "    company=\"Audi\"\n",
    "    wheels=4\n",
    "    door=4\n",
    "    engine=\"1.3 lr\"\n",
    "    color=\"Blue\"\n",
    "\n",
    "    def show_details(self):\n",
    "        print(\"company\",self.company)\n",
    "        print(\"wheels\",self.wheels)\n",
    "        print(\"door\",self.door)\n",
    "        print(\"engine\",self.engine)\n",
    "        print(\"colour\",self.color)\n"
   ]
  },
  {
   "cell_type": "code",
   "execution_count": 35,
   "metadata": {},
   "outputs": [],
   "source": [
    "c=Car()"
   ]
  },
  {
   "cell_type": "code",
   "execution_count": 36,
   "metadata": {},
   "outputs": [
    {
     "name": "stdout",
     "output_type": "stream",
     "text": [
      "company Audi\n",
      "wheels 4\n",
      "door 4\n",
      "engine 1.3 lr\n",
      "colour Blue\n"
     ]
    }
   ],
   "source": [
    "c.show_details()"
   ]
  },
  {
   "cell_type": "code",
   "execution_count": 42,
   "metadata": {},
   "outputs": [
    {
     "name": "stdout",
     "output_type": "stream",
     "text": [
      "min= 99\n"
     ]
    }
   ],
   "source": [
    "class student:\n",
    "    maths=100\n",
    "    science=100\n",
    "    english=99\n",
    "    def max(self):\n",
    "        l=[self.maths,self.science,self.english]\n",
    "        l.sort()\n",
    "        print(f\"max= {l[-1]}\")\n",
    "    def min(self):\n",
    "        l=[self.maths,self.science,self.english]\n",
    "        l.sort()\n",
    "        print(f\"min= {l[0]}\")\n",
    "c=student()\n",
    "c.min()"
   ]
  },
  {
   "cell_type": "markdown",
   "metadata": {},
   "source": [
    "write  a program to perform searching activity using linear and binary search"
   ]
  },
  {
   "cell_type": "code",
   "execution_count": 3,
   "metadata": {},
   "outputs": [
    {
     "name": "stdout",
     "output_type": "stream",
     "text": [
      "yes\n"
     ]
    }
   ],
   "source": [
    "f=[1,2,3,4,5,6]\n",
    "target=5\n",
    "count=0\n",
    "for i in f:\n",
    "    if target==i:\n",
    "        count+=1\n",
    "        # print(\"yes\")\n",
    "if(count>0):\n",
    "    print(\"yes\")\n",
    "else:\n",
    "    print(\"No\")"
   ]
  },
  {
   "cell_type": "code",
   "execution_count": 2,
   "metadata": {},
   "outputs": [
    {
     "data": {
      "text/plain": [
       "1"
      ]
     },
     "execution_count": 2,
     "metadata": {},
     "output_type": "execute_result"
    }
   ],
   "source": [
    "def binary(x,target):\n",
    "    left=0\n",
    "    right=len(x)-1\n",
    "    while left<=right:\n",
    "        mid=(left+right)//2\n",
    "        if x[mid]==target:\n",
    "            return mid\n",
    "        elif x[mid]<target:\n",
    "            left=mid+1\n",
    "        else:\n",
    "            right=mid-1\n",
    "    return-1\n",
    "f=[1,2,3,4,5,6]\n",
    "binary(f,2)"
   ]
  },
  {
   "cell_type": "markdown",
   "metadata": {},
   "source": [
    "Write a program to reverse each Kth row in matrix"
   ]
  },
  {
   "cell_type": "code",
   "execution_count": 4,
   "metadata": {},
   "outputs": [
    {
     "data": {
      "text/plain": [
       "[[3, 2, 1], [4, 5, 6], [7, 8, 9], [10, 11, 12]]"
      ]
     },
     "execution_count": 4,
     "metadata": {},
     "output_type": "execute_result"
    }
   ],
   "source": [
    "m=[\n",
    "    [1,2,3],\n",
    "    [4,5,6],\n",
    "    [7,8,9],\n",
    "    [10,11,12]\n",
    "]\n",
    "def reverse_row(m,k):\n",
    "    m[k-1]=m[k-1][::-1]\n",
    "    return m\n",
    "reverse_row(m,1)"
   ]
  },
  {
   "cell_type": "markdown",
   "metadata": {},
   "source": [
    "create a class college:\n",
    "add instance name it \"details\" like: no. of class, location, no. of teachers\n",
    "add instance name it return no of classes\n",
    "add instance name it return no of teacher\n",
    "add instance name it return location of college"
   ]
  },
  {
   "cell_type": "code",
   "execution_count": 5,
   "metadata": {},
   "outputs": [],
   "source": [
    "class College:\n",
    "    def deatils(self,Class,teachers,location):\n",
    "        self.Class=Class\n",
    "        self.teachers=teachers\n",
    "        self.location=location\n",
    "    def classes(self):\n",
    "        print(\"Number of classes :\",self.Class)\n",
    "    def teacher(self):\n",
    "        print(\"Number of teacher :\",self.teacher)\n",
    "    def location(self):\n",
    "        print(\"Number of location :\",self.location)\n"
   ]
  },
  {
   "cell_type": "code",
   "execution_count": 7,
   "metadata": {},
   "outputs": [],
   "source": [
    "college1=College()\n",
    "college1.deatils(100,120,\"Jammu\")"
   ]
  },
  {
   "cell_type": "code",
   "execution_count": 8,
   "metadata": {},
   "outputs": [
    {
     "name": "stdout",
     "output_type": "stream",
     "text": [
      "Number of classes : 100\n"
     ]
    }
   ],
   "source": [
    "college1.classes()"
   ]
  }
 ],
 "metadata": {
  "kernelspec": {
   "display_name": "Python 3",
   "language": "python",
   "name": "python3"
  },
  "language_info": {
   "codemirror_mode": {
    "name": "ipython",
    "version": 3
   },
   "file_extension": ".py",
   "mimetype": "text/x-python",
   "name": "python",
   "nbconvert_exporter": "python",
   "pygments_lexer": "ipython3",
   "version": "3.12.4"
  }
 },
 "nbformat": 4,
 "nbformat_minor": 2
}
