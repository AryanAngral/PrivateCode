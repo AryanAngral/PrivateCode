{
 "cells": [
  {
   "cell_type": "code",
   "execution_count": null,
   "metadata": {},
   "outputs": [],
   "source": [
    "count=0\n",
    "for i in range(1000,5000):\n",
    "    if(pow(i,1/2)==int(pow(i,1/2)) or pow(i,1/3)==int(pow(i,1/3))):\n",
    "        count=count+1\n",
    "count"
   ]
  },
  {
   "cell_type": "code",
   "execution_count": null,
   "metadata": {},
   "outputs": [],
   "source": [
    "class Chair:\n",
    "    #class variable\n",
    "    legs=4\n",
    "    hand_rest=2\n",
    "    back_rest=1\n",
    "    length=\"3 feet\""
   ]
  },
  {
   "cell_type": "code",
   "execution_count": null,
   "metadata": {},
   "outputs": [],
   "source": [
    "c=Chair()\n",
    "print(\"legs\",c.legs)\n",
    "print(\"length\",c.length)\n",
    "print(\"hand rest\",c.hand_rest)\n",
    "print(\"back rest\",c.back_rest)"
   ]
  },
  {
   "cell_type": "code",
   "execution_count": null,
   "metadata": {},
   "outputs": [],
   "source": [
    "d=Chair()\n"
   ]
  },
  {
   "cell_type": "code",
   "execution_count": null,
   "metadata": {},
   "outputs": [],
   "source": [
    "class Car:\n",
    "    company=\"Audi\"\n",
    "    wheels=4\n",
    "    door=4\n",
    "    engine=\"1.3 lr\"\n",
    "    color=\"Blue\""
   ]
  },
  {
   "cell_type": "code",
   "execution_count": null,
   "metadata": {},
   "outputs": [],
   "source": [
    "d=Car()\n",
    "d.color=\"Black\"\n",
    "d.color"
   ]
  },
  {
   "cell_type": "code",
   "execution_count": null,
   "metadata": {},
   "outputs": [],
   "source": [
    "#instances\n",
    "class Car:\n",
    "    company=\"Audi\"\n",
    "    wheels=4\n",
    "    door=4\n",
    "    engine=\"1.3 lr\"\n",
    "    color=\"Blue\"\n",
    "\n",
    "    def show_details(self):\n",
    "        print(\"company\",self.company)\n",
    "        print(\"wheels\",self.wheels)\n",
    "        print(\"door\",self.door)\n",
    "        print(\"engine\",self.engine)\n",
    "        print(\"colour\",self.color)\n"
   ]
  },
  {
   "cell_type": "code",
   "execution_count": null,
   "metadata": {},
   "outputs": [],
   "source": [
    "c=Car()"
   ]
  },
  {
   "cell_type": "code",
   "execution_count": null,
   "metadata": {},
   "outputs": [],
   "source": [
    "c.show_details()"
   ]
  },
  {
   "cell_type": "code",
   "execution_count": null,
   "metadata": {},
   "outputs": [],
   "source": [
    "class student:\n",
    "    maths=100\n",
    "    science=100\n",
    "    english=99\n",
    "    def max(self):\n",
    "        l=[self.maths,self.science,self.english]\n",
    "        l.sort()\n",
    "        print(f\"max= {l[-1]}\")\n",
    "    def min(self):\n",
    "        l=[self.maths,self.science,self.english]\n",
    "        l.sort()\n",
    "        print(f\"min= {l[0]}\")\n",
    "c=student()\n",
    "c.min()"
   ]
  },
  {
   "cell_type": "markdown",
   "metadata": {},
   "source": [
    "write  a program to perform searching activity using linear and binary search"
   ]
  },
  {
   "cell_type": "code",
   "execution_count": null,
   "metadata": {},
   "outputs": [],
   "source": [
    "f=[1,2,3,4,5,6]\n",
    "target=5\n",
    "count=0\n",
    "for i in f:\n",
    "    if target==i:\n",
    "        count+=1\n",
    "        # print(\"yes\")\n",
    "if(count>0):\n",
    "    print(\"yes\")\n",
    "else:\n",
    "    print(\"No\")"
   ]
  },
  {
   "cell_type": "code",
   "execution_count": null,
   "metadata": {},
   "outputs": [],
   "source": [
    "def binary(x,target):\n",
    "    left=0\n",
    "    right=len(x)-1\n",
    "    while left<=right:\n",
    "        mid=(left+right)//2\n",
    "        if x[mid]==target:\n",
    "            return mid\n",
    "        elif x[mid]<target:\n",
    "            left=mid+1\n",
    "        else:\n",
    "            right=mid-1\n",
    "    return-1\n",
    "f=[1,2,3,4,5,6]\n",
    "binary(f,2)"
   ]
  },
  {
   "cell_type": "markdown",
   "metadata": {},
   "source": [
    "Write a program to reverse each Kth row in matrix"
   ]
  },
  {
   "cell_type": "code",
   "execution_count": null,
   "metadata": {},
   "outputs": [],
   "source": [
    "m=[\n",
    "    [1,2,3],\n",
    "    [4,5,6],\n",
    "    [7,8,9],\n",
    "    [10,11,12]\n",
    "]\n",
    "def reverse_row(m,k):\n",
    "    m[k-1]=m[k-1][::-1]\n",
    "    return m\n",
    "reverse_row(m,1)"
   ]
  },
  {
   "cell_type": "markdown",
   "metadata": {},
   "source": [
    "create a class college:\n",
    "add instance name it \"details\" like: no. of class, location, no. of teachers\n",
    "add instance name it return no of classes\n",
    "add instance name it return no of teacher\n",
    "add instance name it return location of college"
   ]
  },
  {
   "cell_type": "code",
   "execution_count": null,
   "metadata": {},
   "outputs": [],
   "source": [
    "class College:\n",
    "    def deatils(self,Class,teachers,location):\n",
    "        self.Class=Class\n",
    "        self.teachers=teachers\n",
    "        self.location=location\n",
    "    def classes(self):\n",
    "        print(\"Number of classes :\",self.Class)\n",
    "    def teacher(self):\n",
    "        print(\"Number of teacher :\",self.teacher)\n",
    "    def location(self):\n",
    "        print(\"Number of location :\",self.location)\n"
   ]
  },
  {
   "cell_type": "code",
   "execution_count": null,
   "metadata": {},
   "outputs": [],
   "source": [
    "college1=College()\n",
    "college1.deatils(100,120,\"Jammu\")"
   ]
  },
  {
   "cell_type": "code",
   "execution_count": null,
   "metadata": {},
   "outputs": [],
   "source": [
    "college1.classes()"
   ]
  },
  {
   "cell_type": "code",
   "execution_count": null,
   "metadata": {},
   "outputs": [],
   "source": [
    "class Student:\n",
    "    def details(self,math,english,science):\n",
    "        self.math=math\n",
    "        self.english=english\n",
    "        self.science=science\n",
    "    def min_score(self):\n",
    "        return min([self.science,self.english,self.math])\n",
    "    def max_score(self):\n",
    "        return max([self.science,self.english,self.math])\n",
    "    def avg_score(self):\n",
    "        return sum([self.science,self.english,self.math])/3"
   ]
  },
  {
   "cell_type": "code",
   "execution_count": null,
   "metadata": {},
   "outputs": [],
   "source": [
    "s1=Student()"
   ]
  },
  {
   "cell_type": "code",
   "execution_count": null,
   "metadata": {},
   "outputs": [],
   "source": [
    "s1.details(99,99,98)"
   ]
  },
  {
   "cell_type": "code",
   "execution_count": null,
   "metadata": {},
   "outputs": [],
   "source": [
    "s1.min_score()"
   ]
  },
  {
   "cell_type": "code",
   "execution_count": null,
   "metadata": {},
   "outputs": [],
   "source": [
    "s1.avg_score()"
   ]
  },
  {
   "cell_type": "code",
   "execution_count": null,
   "metadata": {},
   "outputs": [],
   "source": [
    "s1.max_score()"
   ]
  },
  {
   "cell_type": "code",
   "execution_count": null,
   "metadata": {},
   "outputs": [],
   "source": [
    "class College:\n",
    "    def details(self,area,building,room,teacher,student,staff):\n",
    "        self.area=area\n",
    "        self.building=building\n",
    "        self.room=room\n",
    "        self.teacher=teacher       \n",
    "        self.student=student       \n",
    "        self.staff=staff       \n",
    "    def clg_info(self):\n",
    "        print(\"area\",self.area)\n",
    "        print(\"Building\",self.building)\n",
    "        print(\"Room\",self.room)\n",
    "    def human_info(self):\n",
    "        return self.teacher+self.student+self.staff"
   ]
  },
  {
   "cell_type": "code",
   "execution_count": null,
   "metadata": {},
   "outputs": [],
   "source": [
    "c=College()"
   ]
  },
  {
   "cell_type": "code",
   "execution_count": null,
   "metadata": {},
   "outputs": [],
   "source": [
    "c.details(\"20 acr\",5,120,100,5000,50)"
   ]
  },
  {
   "cell_type": "code",
   "execution_count": null,
   "metadata": {},
   "outputs": [],
   "source": [
    "c.clg_info()"
   ]
  },
  {
   "cell_type": "markdown",
   "metadata": {},
   "source": [
    "BANKING SYSTEM"
   ]
  },
  {
   "cell_type": "code",
   "execution_count": null,
   "metadata": {},
   "outputs": [],
   "source": [
    "class Bank:\n",
    "    balance=20000\n",
    "    def credit(self,amount):\n",
    "        self.amount=amount\n",
    "        if(amount>0):\n",
    "            self.balance+=self.amount\n",
    "            print(f\"{self.amount} has been credited in your account\")\n",
    "            print(f\"{self.balance} is your current balance\")\n",
    "        else:\n",
    "            print(\"Enter valid amount!\")\n",
    "    def debit(self,amount):\n",
    "        self.amount=amount\n",
    "        if(amount>0 and self.balance>amount):\n",
    "            self.balance-=self.amount\n",
    "            print(f\"{self.amount} has been debited from your account\")\n",
    "            print(f\"{self.balance} is your current balance\")\n",
    "        else:\n",
    "            print(\"Please enter valid amount and within your current balance\")\n",
    "        "
   ]
  },
  {
   "cell_type": "code",
   "execution_count": null,
   "metadata": {},
   "outputs": [],
   "source": [
    "a1=Bank()"
   ]
  },
  {
   "cell_type": "code",
   "execution_count": null,
   "metadata": {},
   "outputs": [],
   "source": [
    "a1.credit(100000)"
   ]
  },
  {
   "cell_type": "code",
   "execution_count": null,
   "metadata": {},
   "outputs": [],
   "source": [
    "a1.debit(1000)"
   ]
  },
  {
   "cell_type": "code",
   "execution_count": null,
   "metadata": {},
   "outputs": [],
   "source": [
    "a1.balance"
   ]
  },
  {
   "cell_type": "markdown",
   "metadata": {},
   "source": [
    "Create a class Student where add 5 methods (Year 1, Year 2, Year 3, Year4, Total)"
   ]
  },
  {
   "cell_type": "code",
   "execution_count": null,
   "metadata": {},
   "outputs": [],
   "source": [
    "class Student:\n",
    "    y1=0\n",
    "    y2=0\n",
    "    y3=0\n",
    "    y4=0\n",
    "    def year1(self,yr1):\n",
    "        self.yr1=yr1\n",
    "        self.y1=1\n",
    "    def year2(self,yr2):\n",
    "        self.yr2=yr2\n",
    "        self.y2=1\n",
    "    def year3(self,yr3):\n",
    "        self.yr3=yr3\n",
    "        self.y3=1\n",
    "    def year4(self,yr4):\n",
    "        self.yr4=yr4\n",
    "        self.y4=1\n",
    "    def total(self):\n",
    "        if(self.y1==1 and self.y2==1 and self.y3==1 and self.y4==1):\n",
    "            print(f\"CGPA : {(self.yr1+self.yr2+self.yr3+self.yr4)/4}\")\n",
    "        if(self.y1==1 and self.y2==1 and self.y3==1 and self.y4==0):\n",
    "            print(f\"CGPA : {(self.yr1+self.yr2+self.yr3)/3}\")\n",
    "        if(self.y1==1 and self.y2==1 and self.y3==0 and self.y4==0):\n",
    "            print(f\"CGPA : {(self.yr1+self.yr2)/2}\")\n",
    "        if(self.y1==1 and self.y2==0 and self.y3==0 and self.y4==0):\n",
    "            print(f\"CGPA : {(self.yr1)}\")"
   ]
  },
  {
   "cell_type": "code",
   "execution_count": null,
   "metadata": {},
   "outputs": [],
   "source": [
    "s1=Student()"
   ]
  },
  {
   "cell_type": "code",
   "execution_count": null,
   "metadata": {},
   "outputs": [],
   "source": [
    "s1.year1(9.2)"
   ]
  },
  {
   "cell_type": "code",
   "execution_count": null,
   "metadata": {},
   "outputs": [],
   "source": [
    "s1.year2(9.4)"
   ]
  },
  {
   "cell_type": "code",
   "execution_count": null,
   "metadata": {},
   "outputs": [],
   "source": [
    "s1.year3(9.6)"
   ]
  },
  {
   "cell_type": "code",
   "execution_count": null,
   "metadata": {},
   "outputs": [],
   "source": [
    "s1.year4(9.9)"
   ]
  },
  {
   "cell_type": "code",
   "execution_count": null,
   "metadata": {},
   "outputs": [],
   "source": [
    "s1.total()"
   ]
  },
  {
   "cell_type": "code",
   "execution_count": null,
   "metadata": {},
   "outputs": [],
   "source": [
    "s2=Student()"
   ]
  },
  {
   "cell_type": "code",
   "execution_count": null,
   "metadata": {},
   "outputs": [],
   "source": [
    "s2.year1(9.5)"
   ]
  },
  {
   "cell_type": "code",
   "execution_count": null,
   "metadata": {},
   "outputs": [],
   "source": [
    "s2.total()"
   ]
  },
  {
   "cell_type": "markdown",
   "metadata": {},
   "source": [
    "CONSTRUCTOR"
   ]
  },
  {
   "cell_type": "code",
   "execution_count": null,
   "metadata": {},
   "outputs": [],
   "source": [
    "class A:\n",
    "    def __init__(self):\n",
    "        print(\"This is class A\")\n",
    "\n",
    "    "
   ]
  },
  {
   "cell_type": "code",
   "execution_count": null,
   "metadata": {},
   "outputs": [],
   "source": [
    "class B(A):\n",
    "    def __init__(self):\n",
    "        super().__init__()\n",
    "        print(\"This is class B\")"
   ]
  },
  {
   "cell_type": "code",
   "execution_count": null,
   "metadata": {},
   "outputs": [],
   "source": [
    "b=B()"
   ]
  },
  {
   "cell_type": "code",
   "execution_count": null,
   "metadata": {},
   "outputs": [],
   "source": [
    "class B:\n",
    "    def __init__(self,a,b):\n",
    "        self.a=a\n",
    "        self.b=b\n",
    "    def info(self):\n",
    "        return self.a,self.b\n",
    "    "
   ]
  },
  {
   "cell_type": "code",
   "execution_count": null,
   "metadata": {},
   "outputs": [],
   "source": [
    "class C(B):\n",
    "    def __init__(self,a,b,c,d):\n",
    "        self.a=a\n",
    "        self.b=b\n",
    "        self.c=C\n",
    "        self.d=d\n",
    "    def innn(self):\n",
    "        return (self.c*self.d)\n"
   ]
  },
  {
   "cell_type": "code",
   "execution_count": null,
   "metadata": {},
   "outputs": [],
   "source": [
    "c=C(1,2,3,4)"
   ]
  },
  {
   "cell_type": "code",
   "execution_count": null,
   "metadata": {},
   "outputs": [],
   "source": [
    "c.info()"
   ]
  },
  {
   "cell_type": "code",
   "execution_count": null,
   "metadata": {},
   "outputs": [],
   "source": [
    "c.innn()"
   ]
  },
  {
   "cell_type": "code",
   "execution_count": null,
   "metadata": {},
   "outputs": [],
   "source": []
  },
  {
   "cell_type": "markdown",
   "metadata": {},
   "source": [
    "7.CREATE A DATABASE USING LIST AND TUPLES"
   ]
  },
  {
   "cell_type": "code",
   "execution_count": null,
   "metadata": {},
   "outputs": [],
   "source": [
    "data=[\n",
    "    (1,\"Aryan Angral\",20,\"CSE\"),\n",
    "    (2,\"Suryansh Jasrotia\",20,\"CSE\")\n",
    "]"
   ]
  },
  {
   "cell_type": "code",
   "execution_count": null,
   "metadata": {},
   "outputs": [],
   "source": [
    "data"
   ]
  },
  {
   "cell_type": "code",
   "execution_count": null,
   "metadata": {},
   "outputs": [],
   "source": [
    "def display_data(database):\n",
    "    print(\"ID  | Name                 | Age | Stream\")\n",
    "    print(\"-----------------------------------------\")\n",
    "    for i in database:\n",
    "        print(f\"{i[0]:<3} | {i[1]:<20} | {i[2]:<3} | {i[3]}\")"
   ]
  },
  {
   "cell_type": "code",
   "execution_count": null,
   "metadata": {},
   "outputs": [],
   "source": [
    "display_data(data)"
   ]
  },
  {
   "cell_type": "code",
   "execution_count": null,
   "metadata": {},
   "outputs": [],
   "source": [
    "def add_data(data,id,name,age,subject):\n",
    "    data.append((id,name,age,subject))\n"
   ]
  },
  {
   "cell_type": "code",
   "execution_count": null,
   "metadata": {},
   "outputs": [],
   "source": [
    "add_data(data,3,\"Dhruv\",22,\"CSE\")"
   ]
  },
  {
   "cell_type": "code",
   "execution_count": null,
   "metadata": {},
   "outputs": [],
   "source": [
    "display_data(data)"
   ]
  },
  {
   "cell_type": "code",
   "execution_count": null,
   "metadata": {},
   "outputs": [],
   "source": [
    "def remove_data(data,index=0):\n",
    "    data.pop(index-1)"
   ]
  },
  {
   "cell_type": "code",
   "execution_count": null,
   "metadata": {},
   "outputs": [],
   "source": [
    "remove_data(data)"
   ]
  },
  {
   "cell_type": "code",
   "execution_count": null,
   "metadata": {},
   "outputs": [],
   "source": []
  },
  {
   "cell_type": "markdown",
   "metadata": {},
   "source": [
    "FILE HANDLING"
   ]
  },
  {
   "cell_type": "code",
   "execution_count": null,
   "metadata": {},
   "outputs": [],
   "source": [
    "with open(\"A3\",\"w\") as file:\n",
    "    file.write(\"Hi\")\n",
    "    "
   ]
  },
  {
   "cell_type": "code",
   "execution_count": null,
   "metadata": {},
   "outputs": [],
   "source": [
    "with open(\"A3\",\"r\") as file:\n",
    "    a=file.read()"
   ]
  },
  {
   "cell_type": "code",
   "execution_count": null,
   "metadata": {},
   "outputs": [],
   "source": [
    "a"
   ]
  },
  {
   "cell_type": "code",
   "execution_count": null,
   "metadata": {},
   "outputs": [],
   "source": [
    "with open(\"new_A3\",\"w\") as file :\n",
    "    file.write(\"1. This is the file handling in python\\n\")"
   ]
  },
  {
   "cell_type": "code",
   "execution_count": null,
   "metadata": {},
   "outputs": [],
   "source": [
    "with open(\"new_A3\",\"r\") as file:\n",
    "    print(file.read())"
   ]
  },
  {
   "cell_type": "code",
   "execution_count": null,
   "metadata": {},
   "outputs": [],
   "source": [
    "with open(\"new_A3\",\"a\") as file :\n",
    "    file.write(\"2. We are using mode a so that we can add more lines in the file\\n\")\n",
    "    file.write(\"3. Do not forgwt to add a line seprator at the end of teh line\\n\")"
   ]
  },
  {
   "cell_type": "code",
   "execution_count": null,
   "metadata": {},
   "outputs": [],
   "source": [
    "with open(\"new_A3\",\"r\") as file :\n",
    "    print(file.readline())\n",
    "    print(file.readline())\n",
    "    print(file.readline())"
   ]
  },
  {
   "cell_type": "code",
   "execution_count": null,
   "metadata": {},
   "outputs": [],
   "source": [
    "with open(\"new_A3\",\"r\") as file :\n",
    "    print(file.readlines()[2])"
   ]
  },
  {
   "cell_type": "code",
   "execution_count": null,
   "metadata": {},
   "outputs": [],
   "source": [
    "with open(\"new_A3\",\"r\") as file :\n",
    "    f=file.readlines()\n",
    "    print(f[0])\n",
    "    print(f[2])\n"
   ]
  },
  {
   "cell_type": "code",
   "execution_count": null,
   "metadata": {},
   "outputs": [],
   "source": [
    "with open(\"new_A3\",\"a\") as file :\n",
    "    file.write(\"4. adding new lines in the file for more activity\\n5. i can add more line in same code\")"
   ]
  },
  {
   "cell_type": "code",
   "execution_count": null,
   "metadata": {},
   "outputs": [],
   "source": [
    "with open(\"new_A3\",\"r\") as file:\n",
    "    f=file.readlines()\n",
    "    for i in f:\n",
    "        print(i[0:4])"
   ]
  },
  {
   "cell_type": "code",
   "execution_count": null,
   "metadata": {},
   "outputs": [],
   "source": [
    "with open(\"new_A3\",\"r\") as file:\n",
    "    f=file.readlines()\n",
    "    for i in f:\n",
    "        x=i.split()\n",
    "        for j in range(0,4):\n",
    "            print(x[j],\" \",end=\"\")\n",
    "        print()"
   ]
  },
  {
   "cell_type": "code",
   "execution_count": null,
   "metadata": {},
   "outputs": [],
   "source": [
    "with open(\"new_A3\",\"r\") as file:\n",
    "    f=file.readlines()\n",
    "    for i in f:\n",
    "        x=i.split()\n",
    "        for j in x:\n",
    "            if (j[0]=='t' or j[0]=='a'):\n",
    "                print(j,\" \",end=\"\")\n",
    "        print()"
   ]
  },
  {
   "cell_type": "markdown",
   "metadata": {},
   "source": [
    "1. Update any line \n",
    "2. Delete any line\n",
    "3. Update any word\n",
    "4. delete any word\n",
    "4. replace any word"
   ]
  },
  {
   "cell_type": "code",
   "execution_count": null,
   "metadata": {},
   "outputs": [],
   "source": [
    "\n",
    "with open(\"test\",\"w\") as file:\n",
    "    w=file.write(\"1. Hi my name is Aryan Angral\")"
   ]
  },
  {
   "cell_type": "code",
   "execution_count": null,
   "metadata": {},
   "outputs": [],
   "source": [
    "with open(\"test\",\"r\") as file:\n",
    "    f=file.readlines()\n",
    "    f[0]=f[0]+\"in the python\"\n",
    "    print(f[0])"
   ]
  },
  {
   "cell_type": "code",
   "execution_count": null,
   "metadata": {},
   "outputs": [],
   "source": [
    "with open(\"test\",\"r\") as file:\n",
    "    f=file.readlines()\n",
    "    f[0]=f[0].replace(\"Angral\",\"Angral. And i am a enginner\")\n",
    "    print(f[0])"
   ]
  },
  {
   "cell_type": "code",
   "execution_count": null,
   "metadata": {},
   "outputs": [],
   "source": [
    "with open(\"test\",\"r\") as file:\n",
    "    f= file.readlines()\n",
    "    f[0]=f[0].replace(\"Angral\",\"Angral. Whats up!\")\n",
    "with open(\"test\",\"w\") as file:\n",
    "    for i in f:\n",
    "        file.write(i)"
   ]
  },
  {
   "cell_type": "markdown",
   "metadata": {},
   "source": [
    "Convert 1st line into uppercase"
   ]
  },
  {
   "cell_type": "code",
   "execution_count": null,
   "metadata": {},
   "outputs": [],
   "source": [
    "with open(\"test\",\"r\") as file:\n",
    "    f=file.read()\n",
    "    print(f)"
   ]
  },
  {
   "cell_type": "code",
   "execution_count": null,
   "metadata": {},
   "outputs": [],
   "source": [
    "with open(\"test\",\"r\") as file:\n",
    "    f=file.readlines()\n",
    "    x=f[0]\n",
    "    x=x[:3]+x[3].upper()+x[4:]\n",
    "    f[0]=x\n",
    "with open(\"test\",\"w\") as file:\n",
    "    for i in f:\n",
    "        file.write(i)"
   ]
  },
  {
   "cell_type": "markdown",
   "metadata": {},
   "source": [
    "remove all line number from the file"
   ]
  },
  {
   "cell_type": "code",
   "execution_count": null,
   "metadata": {},
   "outputs": [],
   "source": [
    "with open(\"test\",\"r\") as file:\n",
    "    f=file.readlines()\n",
    "    x=f[0]\n",
    "    x=x[3]+x[4:]\n",
    "    f[0]=x\n",
    "with open(\"test\",\"w\") as file:\n",
    "    for i in f:\n",
    "        file.write(i)"
   ]
  },
  {
   "cell_type": "markdown",
   "metadata": {},
   "source": [
    "add line no"
   ]
  },
  {
   "cell_type": "code",
   "execution_count": null,
   "metadata": {},
   "outputs": [],
   "source": [
    "with open(\"test\",\"r\") as file:\n",
    "    f=file.readlines()\n",
    "    \n",
    "with open(\"test\",\"w\") as file:\n",
    "    count=1\n",
    "    for x in f:\n",
    "        x=f\"{count}.\"+\" \"+x[2]+x[3:]\n",
    "        count+=1\n",
    "        file.write(x)"
   ]
  },
  {
   "cell_type": "markdown",
   "metadata": {},
   "source": [
    "update any word in the file"
   ]
  },
  {
   "cell_type": "code",
   "execution_count": null,
   "metadata": {},
   "outputs": [],
   "source": [
    "with open(\"test\",\"r\") as file:\n",
    "    f=file.readlines()\n",
    "with open(\"test\",\"w\")as file:\n",
    "    for i in f:\n",
    "        i=i.replace(\"file\",\"\")\n",
    "        file.write(i)"
   ]
  },
  {
   "cell_type": "code",
   "execution_count": null,
   "metadata": {},
   "outputs": [],
   "source": [
    "l=[]\n",
    "l.insert()"
   ]
  },
  {
   "cell_type": "code",
   "execution_count": 14,
   "metadata": {},
   "outputs": [],
   "source": [
    "class A:\n",
    "    def __init__(self,h=1):\n",
    "        print('hi')"
   ]
  },
  {
   "cell_type": "code",
   "execution_count": 15,
   "metadata": {},
   "outputs": [
    {
     "name": "stdout",
     "output_type": "stream",
     "text": [
      "hi\n"
     ]
    }
   ],
   "source": [
    "a=A()"
   ]
  },
  {
   "cell_type": "code",
   "execution_count": 6,
   "metadata": {},
   "outputs": [
    {
     "name": "stdout",
     "output_type": "stream",
     "text": [
      "<class '__main__.A'>\n"
     ]
    }
   ],
   "source": [
    "print(a)"
   ]
  },
  {
   "cell_type": "code",
   "execution_count": null,
   "metadata": {},
   "outputs": [],
   "source": []
  }
 ],
 "metadata": {
  "kernelspec": {
   "display_name": "Python 3",
   "language": "python",
   "name": "python3"
  },
  "language_info": {
   "codemirror_mode": {
    "name": "ipython",
    "version": 3
   },
   "file_extension": ".py",
   "mimetype": "text/x-python",
   "name": "python",
   "nbconvert_exporter": "python",
   "pygments_lexer": "ipython3",
   "version": "3.12.4"
  }
 },
 "nbformat": 4,
 "nbformat_minor": 2
}
