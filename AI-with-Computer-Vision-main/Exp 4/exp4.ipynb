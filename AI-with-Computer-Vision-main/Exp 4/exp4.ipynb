{
 "cells": [
  {
   "cell_type": "code",
   "execution_count": 8,
   "metadata": {},
   "outputs": [],
   "source": [
    "import folium as flm\n",
    "from folium import plugins\n",
    "import pandas as pd\n",
    "import json\n",
    "import requests"
   ]
  },
  {
   "cell_type": "code",
   "execution_count": 5,
   "metadata": {},
   "outputs": [],
   "source": [
    "with open(r'Indian_States.json') as f:\n",
    "    geojson_states = json.load(f)"
   ]
  },
  {
   "cell_type": "code",
   "execution_count": 6,
   "metadata": {},
   "outputs": [],
   "source": [
    "for i in geojson_states['features']:\n",
    "    i['id'] = i['properties']['NAME_1']"
   ]
  },
  {
   "cell_type": "code",
   "execution_count": 7,
   "metadata": {},
   "outputs": [],
   "source": [
    "with open(\"data.json\",\"r\") as file:\n",
    "    covid_current = json.load(file)"
   ]
  },
  {
   "cell_type": "code",
   "execution_count": 9,
   "metadata": {},
   "outputs": [],
   "source": [
    "data_list = []\n",
    "for state_data in covid_current[\"statewise\"][1:]:\n",
    "    if state_data[\"state\"] !=\"State Unassigned\":\n",
    "        data_list.append({\n",
    "            \"State\": state_data[\"state\"],\n",
    "            \"Total Cases\": int(state_data[\"confirmed\"]),\n",
    "            \"Active Cases\": int(state_data[\"active\"]),\n",
    "            \"Deaths\": int(state_data[\"deaths\"])\n",
    "        })\n",
    "\n",
    "df_covid = pd.DataFrame(data_list)"
   ]
  },
  {
   "cell_type": "code",
   "execution_count": 10,
   "metadata": {},
   "outputs": [],
   "source": [
    "df_covid.rename(columns={\n",
    "    \"Total Cases\": \"total_case\",\n",
    "    \"Active Cases\": \"active_case\",\n",
    "    \"Deaths\": \"total_deaths\"\n",
    "}, inplace=True)"
   ]
  },
  {
   "cell_type": "code",
   "execution_count": 13,
   "metadata": {},
   "outputs": [
    {
     "name": "stdout",
     "output_type": "stream",
     "text": [
      "States present in GeoJSON but missing in DataFrame: {'Dadra and Nagar Haveli'}\n"
     ]
    }
   ],
   "source": [
    "geojson_states_names = [feature[\"properties\"][\"NAME_1\"] for feature in geojson_states[\"features\"]]\n",
    "\n",
    "df_covid_states = df_covid[\"State\"].unique()\n",
    "\n",
    "missing_states = set(geojson_states_names) - set(df_covid_states)\n",
    "print(\"States present in GeoJSON but missing in DataFrame:\", missing_states)\n",
    "\n",
    "state_name_corrections = {\n",
    "    \"Dadra and Nagar Haveli and Doman and Diu\": \"Dadra and Nagar Haveli\",\n",
    "    \"NCT of Delhi\": \"Delhi\"\n",
    "}\n",
    "\n",
    "df_covid[\"State\"] = df_covid[\"State\"].replace(state_name_corrections)"
   ]
  },
  {
   "cell_type": "code",
   "execution_count": null,
   "metadata": {},
   "outputs": [],
   "source": [
    "# Create a lookup dictionary from DataFrane\n",
    "state_data_nap = df_covid.set_index(\"State\").to_dict(orient=\"index\")\n",
    "\n",
    "#Assign values to GeoJSON features dynamically for feature in geojson_states[\"features\"]:\n",
    "for feature in geojson_states[\"features\"]:\n",
    "    state_name = feature [\"properties\"][\"WIE_1\"]\n",
    "\n",
    "    json\n",
    "\n",
    "    if state name in state_data_map:\n",
    "\n",
    "    feature[\"properties\"][\"total_case\"] state_data_map[state_name][\"total_case\"]\n",
    "\n",
    "    feature[\"properties\"][\"active_case\"] = state_data_map[state_name][\"active_case\"]\n",
    "\n",
    "    feature[\"properties\"][\"total_deaths\"] state_data_map[stal name](\"total_deaths\"]\n",
    "\n",
    "    else:\n",
    "        feature[\"properties\"][\"total_case\"]= \"No Data\"\n",
    "        feature[\"properties\"][\"active_case\"]= \"No Data\"\n",
    "        feature[\"properties\"][\"total_deaths\"]= \"No Data\"\n"
   ]
  },
  {
   "cell_type": "code",
   "execution_count": 1,
   "metadata": {},
   "outputs": [
    {
     "data": {
      "text/plain": [
       "<folium.map.Marker at 0x15afb171d30>"
      ]
     },
     "execution_count": 1,
     "metadata": {},
     "output_type": "execute_result"
    }
   ],
   "source": [
    "import folium as flm\n",
    "\n",
    "map1 = flm.Map(location=[20.5937, 78.9629], zoom_start=4, tiles='https://api.mapbox.com/styles/v1/mapbox/outdoors-v11/tiles/{z}/{x}/{y}?access_token=pk.eyJ1Ijoic2F1cmFiaDIxMDUiLCJhIjoiY203czBpcTR1MTVtYjJxc2Q5eXZ6OGwzdCJ9._Y8miF3MQAoZ62U4DfvO6Q', attr='Mapbox Bright')\n",
    "flm.Marker([20.5937, 78.9629], popup='India').add_to(map1)"
   ]
  },
  {
   "cell_type": "code",
   "execution_count": 2,
   "metadata": {},
   "outputs": [
    {
     "data": {
      "text/html": [
       "<div style=\"width:100%;\"><div style=\"position:relative;width:100%;height:0;padding-bottom:60%;\"><span style=\"color:#565656\">Make this Notebook Trusted to load map: File -> Trust Notebook</span><iframe srcdoc=\"&lt;!DOCTYPE html&gt;\n",
       "&lt;html&gt;\n",
       "&lt;head&gt;\n",
       "    \n",
       "    &lt;meta http-equiv=&quot;content-type&quot; content=&quot;text/html; charset=UTF-8&quot; /&gt;\n",
       "    \n",
       "        &lt;script&gt;\n",
       "            L_NO_TOUCH = false;\n",
       "            L_DISABLE_3D = false;\n",
       "        &lt;/script&gt;\n",
       "    \n",
       "    &lt;style&gt;html, body {width: 100%;height: 100%;margin: 0;padding: 0;}&lt;/style&gt;\n",
       "    &lt;style&gt;#map {position:absolute;top:0;bottom:0;right:0;left:0;}&lt;/style&gt;\n",
       "    &lt;script src=&quot;https://cdn.jsdelivr.net/npm/leaflet@1.9.3/dist/leaflet.js&quot;&gt;&lt;/script&gt;\n",
       "    &lt;script src=&quot;https://code.jquery.com/jquery-3.7.1.min.js&quot;&gt;&lt;/script&gt;\n",
       "    &lt;script src=&quot;https://cdn.jsdelivr.net/npm/bootstrap@5.2.2/dist/js/bootstrap.bundle.min.js&quot;&gt;&lt;/script&gt;\n",
       "    &lt;script src=&quot;https://cdnjs.cloudflare.com/ajax/libs/Leaflet.awesome-markers/2.0.2/leaflet.awesome-markers.js&quot;&gt;&lt;/script&gt;\n",
       "    &lt;link rel=&quot;stylesheet&quot; href=&quot;https://cdn.jsdelivr.net/npm/leaflet@1.9.3/dist/leaflet.css&quot;/&gt;\n",
       "    &lt;link rel=&quot;stylesheet&quot; href=&quot;https://cdn.jsdelivr.net/npm/bootstrap@5.2.2/dist/css/bootstrap.min.css&quot;/&gt;\n",
       "    &lt;link rel=&quot;stylesheet&quot; href=&quot;https://netdna.bootstrapcdn.com/bootstrap/3.0.0/css/bootstrap-glyphicons.css&quot;/&gt;\n",
       "    &lt;link rel=&quot;stylesheet&quot; href=&quot;https://cdn.jsdelivr.net/npm/@fortawesome/fontawesome-free@6.2.0/css/all.min.css&quot;/&gt;\n",
       "    &lt;link rel=&quot;stylesheet&quot; href=&quot;https://cdnjs.cloudflare.com/ajax/libs/Leaflet.awesome-markers/2.0.2/leaflet.awesome-markers.css&quot;/&gt;\n",
       "    &lt;link rel=&quot;stylesheet&quot; href=&quot;https://cdn.jsdelivr.net/gh/python-visualization/folium/folium/templates/leaflet.awesome.rotate.min.css&quot;/&gt;\n",
       "    \n",
       "            &lt;meta name=&quot;viewport&quot; content=&quot;width=device-width,\n",
       "                initial-scale=1.0, maximum-scale=1.0, user-scalable=no&quot; /&gt;\n",
       "            &lt;style&gt;\n",
       "                #map_70ef2e6b57fd0c92b1058dc98dea13d2 {\n",
       "                    position: relative;\n",
       "                    width: 100.0%;\n",
       "                    height: 100.0%;\n",
       "                    left: 0.0%;\n",
       "                    top: 0.0%;\n",
       "                }\n",
       "                .leaflet-container { font-size: 1rem; }\n",
       "            &lt;/style&gt;\n",
       "        \n",
       "&lt;/head&gt;\n",
       "&lt;body&gt;\n",
       "    \n",
       "    \n",
       "            &lt;div class=&quot;folium-map&quot; id=&quot;map_70ef2e6b57fd0c92b1058dc98dea13d2&quot; &gt;&lt;/div&gt;\n",
       "        \n",
       "&lt;/body&gt;\n",
       "&lt;script&gt;\n",
       "    \n",
       "    \n",
       "            var map_70ef2e6b57fd0c92b1058dc98dea13d2 = L.map(\n",
       "                &quot;map_70ef2e6b57fd0c92b1058dc98dea13d2&quot;,\n",
       "                {\n",
       "                    center: [20.5937, 78.9629],\n",
       "                    crs: L.CRS.EPSG3857,\n",
       "                    ...{\n",
       "  &quot;zoom&quot;: 4,\n",
       "  &quot;zoomControl&quot;: true,\n",
       "  &quot;preferCanvas&quot;: false,\n",
       "}\n",
       "\n",
       "                }\n",
       "            );\n",
       "\n",
       "            \n",
       "\n",
       "        \n",
       "    \n",
       "            var tile_layer_43dbe45c1f352731f05fd93af2bca1df = L.tileLayer(\n",
       "                &quot;https://api.mapbox.com/styles/v1/mapbox/outdoors-v11/tiles/{z}/{x}/{y}?access_token=pk.eyJ1Ijoic2F1cmFiaDIxMDUiLCJhIjoiY203czBpcTR1MTVtYjJxc2Q5eXZ6OGwzdCJ9._Y8miF3MQAoZ62U4DfvO6Q&quot;,\n",
       "                {\n",
       "  &quot;minZoom&quot;: 0,\n",
       "  &quot;maxZoom&quot;: 18,\n",
       "  &quot;maxNativeZoom&quot;: 18,\n",
       "  &quot;noWrap&quot;: false,\n",
       "  &quot;attribution&quot;: &quot;Mapbox Bright&quot;,\n",
       "  &quot;subdomains&quot;: &quot;abc&quot;,\n",
       "  &quot;detectRetina&quot;: false,\n",
       "  &quot;tms&quot;: false,\n",
       "  &quot;opacity&quot;: 1,\n",
       "}\n",
       "\n",
       "            );\n",
       "        \n",
       "    \n",
       "            tile_layer_43dbe45c1f352731f05fd93af2bca1df.addTo(map_70ef2e6b57fd0c92b1058dc98dea13d2);\n",
       "        \n",
       "    \n",
       "            var marker_5578d295e064adb5c2f246bc1e685c60 = L.marker(\n",
       "                [20.5937, 78.9629],\n",
       "                {\n",
       "}\n",
       "            ).addTo(map_70ef2e6b57fd0c92b1058dc98dea13d2);\n",
       "        \n",
       "    \n",
       "        var popup_35682c644e5f7a11e2e05c18d18473b0 = L.popup({\n",
       "  &quot;maxWidth&quot;: &quot;100%&quot;,\n",
       "});\n",
       "\n",
       "        \n",
       "            \n",
       "                var html_56b8ec91ea40e91f9c869c2580a6ad94 = $(`&lt;div id=&quot;html_56b8ec91ea40e91f9c869c2580a6ad94&quot; style=&quot;width: 100.0%; height: 100.0%;&quot;&gt;India&lt;/div&gt;`)[0];\n",
       "                popup_35682c644e5f7a11e2e05c18d18473b0.setContent(html_56b8ec91ea40e91f9c869c2580a6ad94);\n",
       "            \n",
       "        \n",
       "\n",
       "        marker_5578d295e064adb5c2f246bc1e685c60.bindPopup(popup_35682c644e5f7a11e2e05c18d18473b0)\n",
       "        ;\n",
       "\n",
       "        \n",
       "    \n",
       "&lt;/script&gt;\n",
       "&lt;/html&gt;\" style=\"position:absolute;width:100%;height:100%;left:0;top:0;border:none !important;\" allowfullscreen webkitallowfullscreen mozallowfullscreen></iframe></div></div>"
      ],
      "text/plain": [
       "<folium.folium.Map at 0x15afba57dd0>"
      ]
     },
     "execution_count": 2,
     "metadata": {},
     "output_type": "execute_result"
    }
   ],
   "source": [
    "map1"
   ]
  },
  {
   "cell_type": "code",
   "execution_count": null,
   "metadata": {},
   "outputs": [],
   "source": []
  }
 ],
 "metadata": {
  "kernelspec": {
   "display_name": "Python 3",
   "language": "python",
   "name": "python3"
  },
  "language_info": {
   "codemirror_mode": {
    "name": "ipython",
    "version": 3
   },
   "file_extension": ".py",
   "mimetype": "text/x-python",
   "name": "python",
   "nbconvert_exporter": "python",
   "pygments_lexer": "ipython3",
   "version": "3.12.4"
  }
 },
 "nbformat": 4,
 "nbformat_minor": 2
}
